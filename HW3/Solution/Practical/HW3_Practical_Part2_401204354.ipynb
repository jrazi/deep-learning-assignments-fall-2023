{
  "cells": [
    {
      "cell_type": "markdown",
      "metadata": {
        "id": "DHvhhpBU-QtI"
      },
      "source": [
        "# Homework 3 Part 2\n",
        "\n",
        "## Course Name: Deep Learning\n",
        "#### Lecturers: Dr. Beigy\n",
        "\n",
        "---\n",
        "\n",
        "#### Notebooks Supervised By: Zeinab Sadat Taghavi\n",
        "#### Notebooks Prepared By: Zahra Khoramnejad, Mehran Sarmadi, Zahra Rahimi\n",
        "\n",
        "**Contact**: Ask your questions in Quera\n",
        "\n",
        "---\n",
        "\n",
        "### Instructions:\n",
        "- Complete all exercises presented in this notebook.\n",
        "- Ensure you run each cell after you've entered your solution.\n",
        "- After completing the exercises, save the notebook and <font color='red'>follow the submission guidelines provided in the PDF.</font>\n",
        "\n",
        "\n",
        "---\n"
      ]
    },
    {
      "cell_type": "markdown",
      "metadata": {
        "id": "LG6yNYAmreI_"
      },
      "source": [
        "#Text Generation\n",
        "\n",
        "<p align='justify'>Text generation task involves generating new text based on a given input or a prompt. It is a natural language processing (NLP) task that aims to generate coherent and contextually relevant text.\n",
        "\n",
        "In text generation, a model is trained on a large corpus of text data and learns the patterns and structures of the language. This model can then be used to generate new text by sampling from the learned distribution of words or characters.\n",
        "\n",
        "Text generation has various applications, including chatbots, language translation, poetry generation, and content creation. It can be implemented using different techniques such as `recurrent neural networks (RNNs)`, `transformers`, and `Markov chains`.\n",
        "\n",
        "The goal of text generation is to produce text that is fluent, coherent, and contextually relevant. It requires a deep understanding of the language and the ability to generate text that follows grammatical rules and maintains semantic coherence.</p>"
      ]
    },
    {
      "cell_type": "markdown",
      "metadata": {
        "id": "-u6fGIqx0LIz"
      },
      "source": [
        "## Charachter-leve l text generation"
      ]
    },
    {
      "cell_type": "markdown",
      "metadata": {
        "id": "cKhboP-Y0TrV"
      },
      "source": [
        "One stage of the task of text generation is mapping, which can be at the word or character level. At this stage, a number is assigned to each word or character.\n",
        "\n",
        "In this exercise, we generate text at the character level. Because generating text at the word level, even though it leads to more meaningful outputs, requires a rich dataset with a high number of word repetitions."
      ]
    },
    {
      "cell_type": "markdown",
      "metadata": {
        "id": "00sNsfmXtW6K"
      },
      "source": [
        "We will implement models based on `recurrent networks` for text generation and compare the performance of different models. In the following, we will check the performance of the best models on different datasets and compare the results"
      ]
    },
    {
      "cell_type": "markdown",
      "metadata": {
        "id": "jw8uJvD8vTyM"
      },
      "source": [
        "The steps of this exercise are as follows:\n",
        "1. Train RNN and LSTM\n",
        "2. FineTuning\n",
        "3. Experiment on different datasets"
      ]
    },
    {
      "cell_type": "markdown",
      "metadata": {
        "id": "nb9egMrmAhXK"
      },
      "source": [
        "---\n",
        "---"
      ]
    },
    {
      "cell_type": "markdown",
      "metadata": {
        "id": "SBqL42w1vt1Q"
      },
      "source": [
        "#1. Train RNN and LSTM"
      ]
    },
    {
      "cell_type": "markdown",
      "metadata": {
        "id": "dP0JQJIj2rL0"
      },
      "source": [
        "## Imports"
      ]
    },
    {
      "cell_type": "code",
      "execution_count": 1,
      "metadata": {
        "colab": {
          "base_uri": "https://localhost:8080/"
        },
        "execution": {
          "iopub.execute_input": "2023-12-07T02:07:31.668336Z",
          "iopub.status.busy": "2023-12-07T02:07:31.667432Z",
          "iopub.status.idle": "2023-12-07T02:07:31.676209Z",
          "shell.execute_reply": "2023-12-07T02:07:31.675097Z",
          "shell.execute_reply.started": "2023-12-07T02:07:31.668292Z"
        },
        "id": "x7cTJANKwpck",
        "outputId": "89b9db8d-f846-4c26-b25f-14eefb7a0a35",
        "trusted": true
      },
      "outputs": [
        {
          "name": "stdout",
          "output_type": "stream",
          "text": [
            "cuda\n"
          ]
        }
      ],
      "source": [
        "import torch\n",
        "import torch.nn as nn\n",
        "import torch.nn.functional as F\n",
        "from torch.distributions import Categorical\n",
        "\n",
        "import numpy as np\n",
        "import pandas as pd\n",
        "import random\n",
        "import re\n",
        "import string\n",
        "\n",
        "import matplotlib.pyplot as plt\n",
        "\n",
        "\n",
        "device = torch.device(\"cuda\" if torch.cuda.is_available() else \"cpu\")\n",
        "print(device)"
      ]
    },
    {
      "cell_type": "code",
      "execution_count": 2,
      "metadata": {
        "id": "EVP1Njd4Jrx1"
      },
      "outputs": [],
      "source": [
        "# The function is supported from torch 2.0\n",
        "if torch.set_default_device != None:\n",
        "  torch.set_default_device(device)"
      ]
    },
    {
      "cell_type": "markdown",
      "metadata": {
        "id": "hJSsyWUyv8KC"
      },
      "source": [
        "## Load data"
      ]
    },
    {
      "cell_type": "markdown",
      "metadata": {
        "id": "oHGryhW7wbsZ"
      },
      "source": [
        "- We use the dataset of `Shakespeare's plays` as the main dataset for this exercise"
      ]
    },
    {
      "cell_type": "code",
      "execution_count": 3,
      "metadata": {
        "colab": {
          "base_uri": "https://localhost:8080/"
        },
        "execution": {
          "iopub.execute_input": "2023-12-07T02:07:31.678629Z",
          "iopub.status.busy": "2023-12-07T02:07:31.678283Z",
          "iopub.status.idle": "2023-12-07T02:07:32.854044Z",
          "shell.execute_reply": "2023-12-07T02:07:32.852913Z",
          "shell.execute_reply.started": "2023-12-07T02:07:31.678598Z"
        },
        "id": "eUNd0YrFwW2E",
        "outputId": "77ca1efa-a0cf-4523-a36b-a070ecad7d05",
        "trusted": true
      },
      "outputs": [
        {
          "name": "stdout",
          "output_type": "stream",
          "text": [
            "--2023-12-08 15:59:31--  https://raw.githubusercontent.com/karpathy/char-rnn/master/data/tinyshakespeare/input.txt\n",
            "Resolving raw.githubusercontent.com (raw.githubusercontent.com)... 185.199.108.133, 185.199.109.133, 185.199.110.133, ...\n",
            "Connecting to raw.githubusercontent.com (raw.githubusercontent.com)|185.199.108.133|:443... connected.\n",
            "HTTP request sent, awaiting response... 416 Range Not Satisfiable\n",
            "\n",
            "    The file is already fully retrieved; nothing to do.\n",
            "\n"
          ]
        }
      ],
      "source": [
        "!wget \"https://raw.githubusercontent.com/karpathy/char-rnn/master/data/tinyshakespeare/input.txt\" -c -P {'data/'}"
      ]
    },
    {
      "cell_type": "markdown",
      "metadata": {
        "id": "hYntrpS_Arse"
      },
      "source": [
        "- Load data in amout of 30kb for training models"
      ]
    },
    {
      "cell_type": "code",
      "execution_count": 4,
      "metadata": {
        "execution": {
          "iopub.execute_input": "2023-12-07T02:07:32.855799Z",
          "iopub.status.busy": "2023-12-07T02:07:32.855481Z",
          "iopub.status.idle": "2023-12-07T02:07:32.861286Z",
          "shell.execute_reply": "2023-12-07T02:07:32.860342Z",
          "shell.execute_reply.started": "2023-12-07T02:07:32.855771Z"
        },
        "id": "xYsndtIoxd0Z",
        "trusted": true
      },
      "outputs": [],
      "source": [
        "sh_data_file = \"./data/input.txt\"\n",
        "sh_data = open(sh_data_file, 'r').read(30000)"
      ]
    },
    {
      "cell_type": "markdown",
      "metadata": {
        "id": "Pj-xesSRwI9S"
      },
      "source": [
        "##Charachter mapping"
      ]
    },
    {
      "cell_type": "markdown",
      "metadata": {
        "id": "Jl-LIH_Syl0M"
      },
      "source": [
        "- For better performance of the model, we limit the set of allowed characters"
      ]
    },
    {
      "cell_type": "code",
      "execution_count": 5,
      "metadata": {
        "execution": {
          "iopub.execute_input": "2023-12-07T02:07:32.863080Z",
          "iopub.status.busy": "2023-12-07T02:07:32.862720Z",
          "iopub.status.idle": "2023-12-07T02:07:32.871256Z",
          "shell.execute_reply": "2023-12-07T02:07:32.870450Z",
          "shell.execute_reply.started": "2023-12-07T02:07:32.863047Z"
        },
        "id": "KLiOHN8sCSe2",
        "trusted": true
      },
      "outputs": [],
      "source": [
        "chars = list(string.ascii_lowercase + '\\n' + ' ' + ':' + '.')\n",
        "vocab_size = len(chars)"
      ]
    },
    {
      "cell_type": "code",
      "execution_count": 6,
      "metadata": {
        "execution": {
          "iopub.execute_input": "2023-12-07T02:07:32.874029Z",
          "iopub.status.busy": "2023-12-07T02:07:32.873743Z",
          "iopub.status.idle": "2023-12-07T02:07:32.880895Z",
          "shell.execute_reply": "2023-12-07T02:07:32.880043Z",
          "shell.execute_reply.started": "2023-12-07T02:07:32.873993Z"
        },
        "id": "xvP9iW3FyT6g",
        "trusted": true
      },
      "outputs": [],
      "source": [
        "# Mapping of char-index\n",
        "char_to_ix = { ch:i for i,ch in enumerate(chars) }\n",
        "ix_to_char = { i:ch for i,ch in enumerate(chars) }"
      ]
    },
    {
      "cell_type": "markdown",
      "metadata": {
        "id": "nh8Fo1WnwC9T"
      },
      "source": [
        "##Preprocessing"
      ]
    },
    {
      "cell_type": "code",
      "execution_count": 7,
      "metadata": {
        "execution": {
          "iopub.execute_input": "2023-12-07T02:07:32.882259Z",
          "iopub.status.busy": "2023-12-07T02:07:32.881978Z",
          "iopub.status.idle": "2023-12-07T02:07:32.891018Z",
          "shell.execute_reply": "2023-12-07T02:07:32.890107Z",
          "shell.execute_reply.started": "2023-12-07T02:07:32.882235Z"
        },
        "id": "vxGtjsgay0x9",
        "trusted": true
      },
      "outputs": [],
      "source": [
        "def remove_extraneous_characters(data, valid_char_list):\n",
        "    pattern = f\"[^{re.escape(''.join(valid_char_list))}]\"\n",
        "    return re.sub(pattern, '', data)"
      ]
    },
    {
      "cell_type": "code",
      "execution_count": 8,
      "metadata": {
        "execution": {
          "iopub.execute_input": "2023-12-07T02:07:32.892441Z",
          "iopub.status.busy": "2023-12-07T02:07:32.892137Z",
          "iopub.status.idle": "2023-12-07T02:07:32.919332Z",
          "shell.execute_reply": "2023-12-07T02:07:32.918470Z",
          "shell.execute_reply.started": "2023-12-07T02:07:32.892415Z"
        },
        "id": "KscUSBpbyRNZ",
        "trusted": true
      },
      "outputs": [],
      "source": [
        "sh_data = remove_extraneous_characters(sh_data.lower(), chars)\n",
        "sh_data_size = len(sh_data)\n",
        "\n",
        "# Extract indexes of data characters\n",
        "sh_data = list(sh_data)\n",
        "for i, ch in enumerate(sh_data):\n",
        "    sh_data[i] = char_to_ix[ch]\n",
        "\n",
        "sh_data = torch.tensor(sh_data).to(device)\n",
        "sh_data = torch.unsqueeze(sh_data, dim=1)"
      ]
    },
    {
      "cell_type": "code",
      "execution_count": 9,
      "metadata": {
        "colab": {
          "base_uri": "https://localhost:8080/"
        },
        "id": "6k-GdoSoVKsP",
        "outputId": "57afa5c1-ef34-4c83-a2f3-d977043774e0"
      },
      "outputs": [
        {
          "data": {
            "text/plain": [
              "tensor([[ 5],\n",
              "        [ 8],\n",
              "        [17],\n",
              "        ...,\n",
              "        [18],\n",
              "        [27],\n",
              "        [ 0]], device='cuda:0')"
            ]
          },
          "execution_count": 9,
          "metadata": {},
          "output_type": "execute_result"
        }
      ],
      "source": [
        "sh_data"
      ]
    },
    {
      "cell_type": "markdown",
      "metadata": {
        "id": "Df7TxCxOzueM"
      },
      "source": [
        "## Modeling"
      ]
    },
    {
      "cell_type": "markdown",
      "metadata": {
        "id": "Rsj67WalA4fY"
      },
      "source": [
        "- In this part define RNN and LSTM model, according to the mentioned characteristics and function inputs.\n"
      ]
    },
    {
      "cell_type": "markdown",
      "metadata": {
        "id": "kFj9nkzoz2Hs"
      },
      "source": [
        "### RNN"
      ]
    },
    {
      "cell_type": "code",
      "execution_count": 10,
      "metadata": {
        "execution": {
          "iopub.execute_input": "2023-12-07T02:07:32.921471Z",
          "iopub.status.busy": "2023-12-07T02:07:32.920517Z",
          "iopub.status.idle": "2023-12-07T02:07:32.930386Z",
          "shell.execute_reply": "2023-12-07T02:07:32.929398Z",
          "shell.execute_reply.started": "2023-12-07T02:07:32.921437Z"
        },
        "id": "fgmKXfb1zuAJ",
        "trusted": true
      },
      "outputs": [],
      "source": [
        "class RNN(nn.Module):\n",
        "    def __init__(self, input_size, output_size, hidden_size=512, num_layers=3, dropout_enable=False):\n",
        "        super(RNN, self).__init__()\n",
        "        self.input_size = input_size\n",
        "        self.output_size = output_size\n",
        "        self.hidden_size = hidden_size\n",
        "        self.num_layers = num_layers\n",
        "        self.dropout_enable = dropout_enable\n",
        "        self.dropout = nn.Dropout(0.5)\n",
        "        self.hidden_state = None\n",
        "\n",
        "        # Define the RNN and decoder\n",
        "        self.rnn = nn.RNN(input_size, hidden_size, num_layers, batch_first=True)\n",
        "        self.decoder = nn.Linear(hidden_size, output_size)\n",
        "\n",
        "    def forward(self, input_seq):\n",
        "        # Convert input sequence to one-hot encoding\n",
        "        input_seq = nn.functional.one_hot(input_seq, num_classes=self.input_size).float()\n",
        "\n",
        "        # Initialize hidden state with correct batch size if it's None\n",
        "        if self.hidden_state is None or self.hidden_state.size(1) != input_seq.size(0):\n",
        "            self.hidden_state = torch.zeros(self.num_layers, input_seq.size(0), self.hidden_size).to(input_seq.device)\n",
        "\n",
        "        # Pass the input sequence and hidden state to the RNN\n",
        "        output, self.hidden_state = self.rnn(input_seq, self.hidden_state)\n",
        "\n",
        "        # Pass the output of the RNN to the decoder and apply log softmax\n",
        "        output = self.decoder(output)\n",
        "        output = nn.functional.log_softmax(output, dim=2)\n",
        "\n",
        "        return output\n",
        "\n",
        "    def save_model(self, path):\n",
        "        torch.save(self.state_dict(), path)\n",
        "\n",
        "    def load_model(self, path):\n",
        "        self.load_state_dict(torch.load(path))\n"
      ]
    },
    {
      "cell_type": "markdown",
      "metadata": {
        "id": "xeoymmMx7RKR"
      },
      "source": [
        "### LSTM"
      ]
    },
    {
      "cell_type": "code",
      "execution_count": 11,
      "metadata": {
        "execution": {
          "iopub.execute_input": "2023-12-07T02:07:32.932345Z",
          "iopub.status.busy": "2023-12-07T02:07:32.931700Z",
          "iopub.status.idle": "2023-12-07T02:07:32.945252Z",
          "shell.execute_reply": "2023-12-07T02:07:32.944329Z",
          "shell.execute_reply.started": "2023-12-07T02:07:32.932311Z"
        },
        "id": "4PQDAnxc7Q26",
        "trusted": true
      },
      "outputs": [],
      "source": [
        "class LSTM(nn.Module):\n",
        "    def __init__(self, input_size, output_size, hidden_size=512, num_layers=3, dropout_enable=False):\n",
        "        super(LSTM, self).__init__()\n",
        "        self.input_size = input_size\n",
        "        self.output_size = output_size\n",
        "        self.hidden_size = hidden_size\n",
        "        self.num_layers = num_layers\n",
        "        self.dropout_enable = dropout_enable\n",
        "        self.dropout = nn.Dropout(0.5)\n",
        "        self.hidden_state = None\n",
        "\n",
        "        # Define the LSTM and decoder\n",
        "        self.lstm = nn.LSTM(input_size, hidden_size, num_layers, batch_first=True)\n",
        "        self.decoder = nn.Linear(hidden_size, output_size)\n",
        "\n",
        "    def forward(self, input_seq):\n",
        "        # Convert input sequence to one-hot encoding\n",
        "        input_seq = nn.functional.one_hot(input_seq, num_classes=self.input_size).float()\n",
        "\n",
        "        # Initialize hidden state with correct batch size if it's None\n",
        "        if self.hidden_state is None or self.hidden_state[0].size(1) != input_seq.size(0):\n",
        "            self.hidden_state = (torch.zeros(self.num_layers, input_seq.size(0), self.hidden_size).to(input_seq.device),\n",
        "                                 torch.zeros(self.num_layers, input_seq.size(0), self.hidden_size).to(input_seq.device))\n",
        "\n",
        "        # Pass the input sequence and hidden state to the LSTM\n",
        "        output, self.hidden_state = self.lstm(input_seq, self.hidden_state)\n",
        "\n",
        "        # Pass the output of the LSTM to the decoder and apply log softmax\n",
        "        output = self.decoder(output)\n",
        "        output = nn.functional.log_softmax(output, dim=2)\n",
        "\n",
        "        return output\n",
        "\n",
        "    def save_model(self, path):\n",
        "        torch.save(self.state_dict(), path)\n",
        "\n",
        "    def load_model(self, path):\n",
        "        self.load_state_dict(torch.load(path))\n"
      ]
    },
    {
      "cell_type": "markdown",
      "metadata": {
        "id": "Y9XQWqoXwM4N"
      },
      "source": [
        "## Training"
      ]
    },
    {
      "cell_type": "code",
      "execution_count": 12,
      "metadata": {
        "execution": {
          "iopub.execute_input": "2023-12-07T02:07:32.949110Z",
          "iopub.status.busy": "2023-12-07T02:07:32.948398Z",
          "iopub.status.idle": "2023-12-07T02:07:32.958409Z",
          "shell.execute_reply": "2023-12-07T02:07:32.957551Z",
          "shell.execute_reply.started": "2023-12-07T02:07:32.949084Z"
        },
        "id": "ruPWrO7Z9JM2",
        "trusted": true
      },
      "outputs": [],
      "source": [
        "def print_sample_output(model, data, data_size, test_output_len = 200):\n",
        "    # Use this function to print sample that model generates from its current hidden state and random input character\n",
        "    # test_output_len is total num of characters in output test sequence\n",
        "\n",
        "    test_output = \"\"\n",
        "    data_ptr = 0\n",
        "\n",
        "    rand_index = np.random.randint(data_size-1)\n",
        "    input_seq = data[rand_index : rand_index+1]\n",
        "\n",
        "    while True:\n",
        "        output = model(input_seq)\n",
        "\n",
        "        output = F.softmax(torch.squeeze(output), dim=0)\n",
        "        dist = Categorical(output)\n",
        "        index = dist.sample().item()\n",
        "\n",
        "        test_output += ix_to_char[index]\n",
        "\n",
        "        input_seq[0][0] = index\n",
        "        data_ptr += 1\n",
        "\n",
        "        if data_ptr > test_output_len:\n",
        "            break\n",
        "\n",
        "    print(\"Train Sample +++++++++++++++++++++++++++++++++++++++++++++\")\n",
        "    print(test_output)\n",
        "    print(\"++++++++++++++++++++++++++++++++++++++++++++++++++++++++++\")"
      ]
    },
    {
      "cell_type": "markdown",
      "metadata": {
        "id": "WC337ho-XX-I"
      },
      "source": [
        "- For construction of each sample in the dataset, the output sequence is\n",
        "obtained from the shift of one character from the input sequence. For example, when sequence_length is 10 and our text is `Hello world`. The input sequence would be `Hello worl`, and the target sequence `ello world`."
      ]
    },
    {
      "cell_type": "code",
      "execution_count": 13,
      "metadata": {
        "execution": {
          "iopub.execute_input": "2023-12-07T02:07:32.959906Z",
          "iopub.status.busy": "2023-12-07T02:07:32.959585Z",
          "iopub.status.idle": "2023-12-07T02:07:32.973212Z",
          "shell.execute_reply": "2023-12-07T02:07:32.972287Z",
          "shell.execute_reply.started": "2023-12-07T02:07:32.959880Z"
        },
        "id": "aPpDSsZU7vWu",
        "trusted": true
      },
      "outputs": [],
      "source": [
        "def train_epoch(model, data, data_size, epoch, optimizer, seq_len=200):\n",
        "    model.train()\n",
        "    criterion = nn.CrossEntropyLoss()\n",
        "    total_loss = 0\n",
        "    sample_number = 0\n",
        "\n",
        "    for i in range(0, data_size-1-seq_len, seq_len):\n",
        "        # Detach the hidden state from its history\n",
        "        if model.hidden_state is not None:\n",
        "            if isinstance(model, LSTM):\n",
        "                model.hidden_state = (model.hidden_state[0].detach(), model.hidden_state[1].detach())\n",
        "            else:\n",
        "                model.hidden_state = model.hidden_state.detach()\n",
        "\n",
        "        # Create input and target sequences\n",
        "        input_seq = data[i : i+seq_len]\n",
        "        target_seq = data[i+1 : i+seq_len+1]\n",
        "\n",
        "        # Pass the input sequence to the model\n",
        "        output = model(input_seq)\n",
        "\n",
        "        # Reshape output and target sequences for loss computation\n",
        "        output = output.view(-1, model.output_size)\n",
        "        target_seq = target_seq.view(-1)\n",
        "\n",
        "        # Compute the loss, backpropagate and update parameters\n",
        "        loss = criterion(output, target_seq)\n",
        "        optimizer.zero_grad()\n",
        "        loss.backward()\n",
        "        optimizer.step()\n",
        "\n",
        "        # Update total loss and sample number\n",
        "        total_loss += loss.item()\n",
        "        sample_number += 1\n",
        "\n",
        "        # Print current loss and a sample output every ten epochs\n",
        "        if epoch % 10 == 0 and i == 0:\n",
        "            print(\"Epoch:\", epoch, \"Loss:\", total_loss / sample_number)\n",
        "            print_sample_output(model, data, data_size)\n",
        "\n",
        "    return total_loss / sample_number\n"
      ]
    },
    {
      "cell_type": "code",
      "execution_count": 14,
      "metadata": {
        "execution": {
          "iopub.execute_input": "2023-12-07T02:07:32.974756Z",
          "iopub.status.busy": "2023-12-07T02:07:32.974396Z",
          "iopub.status.idle": "2023-12-07T02:07:32.986152Z",
          "shell.execute_reply": "2023-12-07T02:07:32.985205Z",
          "shell.execute_reply.started": "2023-12-07T02:07:32.974722Z"
        },
        "id": "1NT_mZuMf4do",
        "trusted": true
      },
      "outputs": [],
      "source": [
        "def train_rnn(data, data_size, model_save_file):\n",
        "    # RNN parameters\n",
        "    hidden_size = 512\n",
        "    num_layers = 6\n",
        "    lr = 0.002\n",
        "    epoch_num = 100\n",
        "    losses = []\n",
        "\n",
        "    # Initialize the RNN model and optimizer\n",
        "    model = RNN(len(char_to_ix), len(char_to_ix), hidden_size, num_layers)\n",
        "    optimizer = torch.optim.Adam(model.parameters(), lr=lr)\n",
        "\n",
        "    min_loss = float('inf')\n",
        "\n",
        "    # Train the model for the specified number of epochs\n",
        "    for epoch in range(1, epoch_num + 1):\n",
        "        loss = train_epoch(model, data, data_size, epoch, optimizer)\n",
        "        losses.append(loss)\n",
        "\n",
        "        # Save the model if it has the lowest loss so far\n",
        "        if loss < min_loss:\n",
        "            min_loss = loss\n",
        "            model.save_model(model_save_file)\n",
        "\n",
        "    return losses\n"
      ]
    },
    {
      "cell_type": "code",
      "execution_count": 15,
      "metadata": {
        "execution": {
          "iopub.execute_input": "2023-12-07T02:07:32.987878Z",
          "iopub.status.busy": "2023-12-07T02:07:32.987429Z",
          "iopub.status.idle": "2023-12-07T02:07:32.996649Z",
          "shell.execute_reply": "2023-12-07T02:07:32.995870Z",
          "shell.execute_reply.started": "2023-12-07T02:07:32.987837Z"
        },
        "id": "gd-wyFT4gerv",
        "trusted": true
      },
      "outputs": [],
      "source": [
        "def train_lstm(data, data_size, model_save_file):\n",
        "    # LSTM parameters\n",
        "    hidden_size = 512\n",
        "    num_layers = 3\n",
        "    lr = 0.002\n",
        "    epoch_num = 100\n",
        "    losses = []\n",
        "\n",
        "    # Initialize the LSTM model and optimizer\n",
        "    model = LSTM(len(char_to_ix), len(char_to_ix), hidden_size, num_layers)\n",
        "    optimizer = torch.optim.Adam(model.parameters(), lr=lr)\n",
        "\n",
        "    min_loss = float('inf')\n",
        "\n",
        "    # Train the model for the specified number of epochs\n",
        "    for epoch in range(1, epoch_num + 1):\n",
        "        loss = train_epoch(model, data, data_size, epoch, optimizer)\n",
        "        losses.append(loss)\n",
        "\n",
        "        # Save the model if it has the lowest loss so far\n",
        "        if loss < min_loss:\n",
        "            min_loss = loss\n",
        "            model.save_model(model_save_file)\n",
        "\n",
        "    return losses\n"
      ]
    },
    {
      "cell_type": "code",
      "execution_count": 16,
      "metadata": {
        "id": "_PSd4vQBwKKi"
      },
      "outputs": [],
      "source": [
        "assert isinstance(sh_data, torch.Tensor), \"Data should be a torch tensor\"\n",
        "assert len(sh_data.shape) == 2, \"Data should be a 2D tensor\"\n",
        "assert sh_data.shape[1] == 1, \"Data should have shape [n, 1]\"\n",
        "\n",
        "\n",
        "assert len(sh_data.shape) == 2, \"Input sequence should be a 2D tensor\"\n"
      ]
    },
    {
      "cell_type": "markdown",
      "metadata": {
        "id": "KW4HTBwBEoHC"
      },
      "source": [
        "### RNN"
      ]
    },
    {
      "cell_type": "code",
      "execution_count": 17,
      "metadata": {
        "colab": {
          "base_uri": "https://localhost:8080/"
        },
        "execution": {
          "iopub.execute_input": "2023-12-07T02:07:33.002242Z",
          "iopub.status.busy": "2023-12-07T02:07:33.001642Z",
          "iopub.status.idle": "2023-12-07T02:07:33.618244Z",
          "shell.execute_reply": "2023-12-07T02:07:33.615941Z",
          "shell.execute_reply.started": "2023-12-07T02:07:33.002215Z"
        },
        "id": "-mA-QGewD22i",
        "outputId": "8748a0b5-5be4-46ea-a18c-f72516b4f482",
        "trusted": true
      },
      "outputs": [
        {
          "name": "stdout",
          "output_type": "stream",
          "text": [
            "Epoch: 10 Loss: 3.227360486984253\n",
            "Train Sample +++++++++++++++++++++++++++++++++++++++++++++\n",
            "ptkrsa\n",
            "\n",
            " ta hthuhewswhoietdoeinthda\n",
            "art\n",
            "e op:etoet ut dhhttlrtoteilcaefweo e tah :ratu\n",
            "nmei\n",
            " thw.cpai th.a\n",
            "me  :htr ith\n",
            "otsoot u euhsdeerrbhohp hhr smgsrele:ttphe\n",
            "oyilha oduadthlaeaaet\n",
            "nnta oi loeteh m\n",
            "++++++++++++++++++++++++++++++++++++++++++++++++++++++++++\n",
            "Epoch: 20 Loss: 3.2294492721557617\n",
            "Train Sample +++++++++++++++++++++++++++++++++++++++++++++\n",
            "limdhrshge st hid chiuh \n",
            "dawi dwsiwd\n",
            "os hnavhtl whhr  s.mtwgtre\n",
            "n\n",
            "tc mshlosttee\n",
            "eootawhulhrre gosteur\n",
            "emhs\n",
            "ihyhee elsg m\n",
            "  iie kmahhrthhhp eahl \n",
            "eid\n",
            "toahhl noohr\n",
            ":mtnedesohrsyuth w phe ayar tepeht.lhbr\n",
            "++++++++++++++++++++++++++++++++++++++++++++++++++++++++++\n",
            "Epoch: 30 Loss: 3.2292263507843018\n",
            "Train Sample +++++++++++++++++++++++++++++++++++++++++++++\n",
            "mpvrimha: owib nht:lhygxset enerdeniae ltbwhlhhatriltdhae mtok :mohaetoaseslaih teth: kio:s e httrhahwaroyh\n",
            "lu thoeehe:eoau.h tikmhad  nuphieet.ep\n",
            "ehtokakekd dt k  tdrtiritbe:lideh  ma wchktr\n",
            "witt\n",
            "afht\n",
            "++++++++++++++++++++++++++++++++++++++++++++++++++++++++++\n",
            "Epoch: 40 Loss: 3.229271173477173\n",
            "Train Sample +++++++++++++++++++++++++++++++++++++++++++++\n",
            " ihe.hbvfahewtoyti hapfe ahslottp eta\n",
            "et:nst:r: t\n",
            "ta\n",
            " rrk tfwdceht waan\n",
            "a t:mhhigtrshdotheao:thnrrh ahaemdetwnlaliyhhm:es irhdhis.h \n",
            "p :ehen etlrrees hshevdsmia twmdaryarlh hmcau odws m\n",
            "eg\n",
            "ahh:hrttdahh\n",
            "++++++++++++++++++++++++++++++++++++++++++++++++++++++++++\n",
            "Epoch: 50 Loss: 3.229482412338257\n",
            "Train Sample +++++++++++++++++++++++++++++++++++++++++++++\n",
            "pais n lk euohhuh ntlrilk taetruettnayh\n",
            "stdnhheasar ttaaomhcrattaareee:h tlnoki psten:hobhrriihhtr\n",
            "hmtdsmdtdesheiae \n",
            "t dtisredharomhoh:ro euthd.th ta \n",
            "a dy:r odm: eh:dsdmetedstalhs\n",
            "   art.\n",
            "tgete  emhpa\n",
            "++++++++++++++++++++++++++++++++++++++++++++++++++++++++++\n",
            "Epoch: 60 Loss: 3.2294223308563232\n",
            "Train Sample +++++++++++++++++++++++++++++++++++++++++++++\n",
            "ny c\n",
            "hu ywhrei mawrrtaebke  ee eoc\n",
            "us mwoheddri\n",
            "hi.atmahm\n",
            "er:shtdhhueus:yilrsdaet hntr:ag :e\n",
            "r a  :oaknhntt.tae: ta masehaean wae. e:w d eaasdehrt \n",
            "roue dhtei olethshhehh.thhttirwrrhemio hdrhre\n",
            "w:dweta\n",
            "++++++++++++++++++++++++++++++++++++++++++++++++++++++++++\n",
            "Epoch: 70 Loss: 3.229060649871826\n",
            "Train Sample +++++++++++++++++++++++++++++++++++++++++++++\n",
            "eh\n",
            "  h  d\n",
            "ahspiagra m su lhmyafrle hhlmhdet shat\n",
            " tga.rc i mdh he\n",
            "h.rpoahle:a\n",
            "ethdat\n",
            "a inte lteeaataoor\n",
            "hidtbtttuehfd omnhhsus\n",
            "ataesnhlihhe \n",
            " otd tahia h\n",
            "\n",
            "hrag  metesalukha erte a\n",
            "\n",
            "wlrwkhtate.rleekalr\n",
            "\n",
            "++++++++++++++++++++++++++++++++++++++++++++++++++++++++++\n",
            "Epoch: 80 Loss: 3.2295992374420166\n",
            "Train Sample +++++++++++++++++++++++++++++++++++++++++++++\n",
            "ar\n",
            "w .  eeptetk.ealrrraaenl e wvaea aaa da\n",
            "eeotrlrthhpaniitunefato n anmayh yusgts.mr:at\n",
            "iaehese  rs s hefd hm kthr im\n",
            "hhtddklirlhiahtgeuretahe\n",
            "merdri me  wu\n",
            "gttat  daiyhakw \n",
            "st\n",
            "dvri ie  \n",
            "s rtt\n",
            "n\n",
            "aattd\n",
            "++++++++++++++++++++++++++++++++++++++++++++++++++++++++++\n",
            "Epoch: 90 Loss: 3.2291619777679443\n",
            "Train Sample +++++++++++++++++++++++++++++++++++++++++++++\n",
            "rtwiwoutud adliss mih nghr hhs dlth a  khyle \n",
            "lmr\n",
            "ad:tta\n",
            " tceer enir:aetft lai:m r hoeeata  hr tse:clewhsofktmhhtohehe hneehudnhe \n",
            "ah\n",
            "  lduuulth hdeyouml u\n",
            "wrie mc\n",
            "tmr.u elw\n",
            "eumheeheo h tmsauidg driulh\n",
            "++++++++++++++++++++++++++++++++++++++++++++++++++++++++++\n",
            "Epoch: 100 Loss: 3.229605197906494\n",
            "Train Sample +++++++++++++++++++++++++++++++++++++++++++++\n",
            "aslosthtehh aeaawad\n",
            "tgmnhgtlohhenu\n",
            "ahl.t nas acaateu tsem:whtehlemia e l heatsdndohie he  i  atie\n",
            "otr\n",
            "a dehuhdtv:e\n",
            "  lesisdsi sdusl\n",
            "si hy ahedt  lamthhth dtalhidleehauc.\n",
            "a:ett. ooieheu cthoat r se:th d\n",
            "++++++++++++++++++++++++++++++++++++++++++++++++++++++++++\n"
          ]
        }
      ],
      "source": [
        "rnn_sh_losses = train_rnn(sh_data, sh_data_size, './model_sh_rnn.pth')"
      ]
    },
    {
      "cell_type": "markdown",
      "metadata": {
        "id": "0LNMgGhjEqZn"
      },
      "source": [
        "### LSTM"
      ]
    },
    {
      "cell_type": "code",
      "execution_count": 18,
      "metadata": {
        "colab": {
          "base_uri": "https://localhost:8080/"
        },
        "execution": {
          "iopub.status.busy": "2023-12-07T02:07:33.619470Z",
          "iopub.status.idle": "2023-12-07T02:07:33.619844Z",
          "shell.execute_reply": "2023-12-07T02:07:33.619652Z",
          "shell.execute_reply.started": "2023-12-07T02:07:33.619637Z"
        },
        "id": "oA6zVNt6Ep7S",
        "outputId": "843be988-d3d6-4764-e0d6-73458152b7ba",
        "trusted": true
      },
      "outputs": [
        {
          "name": "stdout",
          "output_type": "stream",
          "text": [
            "Epoch: 10 Loss: 2.5060980319976807\n",
            "Train Sample +++++++++++++++++++++++++++++++++++++++++++++\n",
            "ir st\n",
            "perout\n",
            "lde t ho \n",
            "sievt ch\n",
            "whindseer we\n",
            "hetowe iukthalous t:\n",
            "o meonieust the y f \n",
            "me adar s sds t irs hour:\n",
            "o \n",
            "we l \n",
            "o yyorsndord aakst thyr n amashiuswhinselehalaatherod thime my lldi oren sherg \n",
            "++++++++++++++++++++++++++++++++++++++++++++++++++++++++++\n",
            "Epoch: 20 Loss: 2.4429409503936768\n",
            "Train Sample +++++++++++++++++++++++++++++++++++++++++++++\n",
            "s:\n",
            "ithard h wand m peyere d yond rerove a hibes:\n",
            "md le arevat se athalil ur ce wim.\n",
            "wo wen a yoforrce:\n",
            "y. ge dithas woscomyoll hy:\n",
            "ame ba.\n",
            "the chux in ar watolsese icowy lyor t ius ton we pakn geyo bus\n",
            "++++++++++++++++++++++++++++++++++++++++++++++++++++++++++\n",
            "Epoch: 30 Loss: 2.0010433197021484\n",
            "Train Sample +++++++++++++++++++++++++++++++++++++++++++++\n",
            " nditheind y ig ts.\n",
            "mals tese ciusthe.\n",
            "thed d arurk derke goferithe tererouls dindm hacore thas whermo ius fr thavandot y et bery\n",
            "mmoweeyousha\n",
            "tand thomu thengitho\n",
            "t agt he ane.\n",
            "yoerestheleriuroremousp\n",
            "++++++++++++++++++++++++++++++++++++++++++++++++++++++++++\n",
            "Epoch: 40 Loss: 1.2175965309143066\n",
            "Train Sample +++++++++++++++++++++++++++++++++++++++++++++\n",
            "s my\n",
            "thed thatobut shad\n",
            "ckl mnhe hereis s der:\n",
            "hend n ifrs:\n",
            "cise se\n",
            "aithe ffis\n",
            "\n",
            "atilome tatod:\n",
            "till allloougd ifa direkeriurokour met he thu pkeethaueifthese sciadoud\n",
            "tron but\n",
            "ccit dodius\n",
            "mavonghe.: ml\n",
            "++++++++++++++++++++++++++++++++++++++++++++++++++++++++++\n",
            "Epoch: 50 Loss: 0.6646692752838135\n",
            "Train Sample +++++++++++++++++++++++++++++++++++++++++++++\n",
            " t tre youre ine t se t me ar\n",
            "cire yol icathe al henowas w d llowe e tre sole bes:\n",
            "tof berce\n",
            "\n",
            "mbe\n",
            "ithe the thu om hene ar:\n",
            "ld mors heate gy mesthiad bar and nke yo tls\n",
            "hed mope tino pour anthbe ha that\n",
            "++++++++++++++++++++++++++++++++++++++++++++++++++++++++++\n",
            "Epoch: 60 Loss: 0.3307796120643616\n",
            "Train Sample +++++++++++++++++++++++++++++++++++++++++++++\n",
            "ers t id tize t are oecould mat es ouse pplerit wowis whe ads lsweshis\n",
            "ad es lyolatond y n he. ame lles matwefrin chthe t:\n",
            "\n",
            "me t aw le bore y\n",
            "cane\n",
            "odaume imowhe tmat q\n",
            "lellers upia ak d mad thofe blld \n",
            "++++++++++++++++++++++++++++++++++++++++++++++++++++++++++\n",
            "Epoch: 70 Loss: 0.3869992792606354\n",
            "Train Sample +++++++++++++++++++++++++++++++++++++++++++++\n",
            "the ane cohaik aial ianchere eck\n",
            "\n",
            "\n",
            "\n",
            "\n",
            "e ippod nd nia on at.\n",
            "\n",
            "mblas thitllomethis niss\n",
            "the tabe mu ias hallofincepelfopre wol whtly is\n",
            "n nghathe h th th cad yolirs nd ithoom thinghed y lswhaven u.\n",
            "f es m\n",
            "++++++++++++++++++++++++++++++++++++++++++++++++++++++++++\n",
            "Epoch: 80 Loss: 0.3510054349899292\n",
            "Train Sample +++++++++++++++++++++++++++++++++++++++++++++\n",
            "ou tcu m thathoenen tearshus:\n",
            "\n",
            "tt rn f we f r thitoulorr\n",
            "that:\n",
            "\n",
            "\n",
            "me ciale tl qu.\n",
            "ousomit.\n",
            "\n",
            "m same imans se un m y owie fithed teve d ewithe tininapre\n",
            "theentiake\n",
            "a bulifoor baci nouss lld ticot whe t:\n",
            "\n",
            "\n",
            "++++++++++++++++++++++++++++++++++++++++++++++++++++++++++\n",
            "Epoch: 90 Loss: 0.33567848801612854\n",
            "Train Sample +++++++++++++++++++++++++++++++++++++++++++++\n",
            "tsorust indarewiner trdowi th de y ma boonatonde in whu\n",
            "tyortoumau hen thity th yor\n",
            "\n",
            "watoo whe faner\n",
            "y ns om s werey he i pouseco ge th:\n",
            "thon:\n",
            "thino wey tous courou ciu th th thed.\n",
            "\n",
            "be ciad cof d cond \n",
            "++++++++++++++++++++++++++++++++++++++++++++++++++++++++++\n",
            "Epoch: 100 Loss: 0.30036747455596924\n",
            "Train Sample +++++++++++++++++++++++++++++++++++++++++++++\n",
            "eimes t akarce cir:\n",
            "\n",
            "am hatwe ananes hyouroo fris n hallopaplld imome i allir isoff veavedis\n",
            "won:\n",
            "\n",
            "athed ono uereipe shed ofinoutinincandm thaumy n. sise tanond fe\n",
            "w aus:\n",
            "\n",
            "austhirdimoopeake n ot s of h\n",
            "++++++++++++++++++++++++++++++++++++++++++++++++++++++++++\n"
          ]
        }
      ],
      "source": [
        "lstm_sh_losses = train_lstm(sh_data, sh_data_size, './model_sh_lstm.pth')"
      ]
    },
    {
      "cell_type": "markdown",
      "metadata": {
        "id": "tUGxc-Z1wRiP"
      },
      "source": [
        "##Generating texts"
      ]
    },
    {
      "cell_type": "markdown",
      "metadata": {
        "id": "43rEOvbopt3s"
      },
      "source": [
        "- A sample text to input the model"
      ]
    },
    {
      "cell_type": "code",
      "execution_count": 19,
      "metadata": {
        "execution": {
          "iopub.status.busy": "2023-12-07T02:07:33.620704Z",
          "iopub.status.idle": "2023-12-07T02:07:33.621027Z",
          "shell.execute_reply": "2023-12-07T02:07:33.620881Z",
          "shell.execute_reply.started": "2023-12-07T02:07:33.620866Z"
        },
        "id": "2gkZC4UagpoB",
        "trusted": true
      },
      "outputs": [],
      "source": [
        "input_sample_text = 'First Citizen:\\nYou are all resolved rather to die than to famish?\\n'\n",
        "\n",
        "def create_input_sample_dataset(input_sample_text):\n",
        "    input_sample = remove_extraneous_characters(input_sample_text.lower(), chars)\n",
        "    input_sample = list(input_sample)\n",
        "    for i, ch in enumerate(input_sample):\n",
        "        input_sample[i] = char_to_ix[ch]\n",
        "\n",
        "    input_sample = torch.tensor(input_sample).to(device)\n",
        "    input_sample = torch.unsqueeze(input_sample, dim=1)\n",
        "    return input_sample"
      ]
    },
    {
      "cell_type": "markdown",
      "metadata": {
        "id": "m7N1xZocpFIf"
      },
      "source": [
        "- This function generates the output generated by the model for the input sample, and if the input sample text is not given, it samples a sequence of original data and gives it to the model."
      ]
    },
    {
      "cell_type": "code",
      "execution_count": 20,
      "metadata": {
        "execution": {
          "iopub.status.busy": "2023-12-07T02:07:33.622426Z",
          "iopub.status.idle": "2023-12-07T02:07:33.622789Z",
          "shell.execute_reply": "2023-12-07T02:07:33.622607Z",
          "shell.execute_reply.started": "2023-12-07T02:07:33.622579Z"
        },
        "id": "zTFXBqKqII_j",
        "trusted": true
      },
      "outputs": [],
      "source": [
        "def generate_text(model, data, data_size, input_sample_test = None, output_len=1000):\n",
        "    model.eval()\n",
        "    data_ptr = 0\n",
        "    test_output=\"\"\n",
        "\n",
        "    if input_sample_test is not None:\n",
        "        index = 0\n",
        "        seq_len = len(input_sample_test)\n",
        "        input_seq = input_sample_test[index : index + seq_len-1]\n",
        "    else:\n",
        "        # If input sample not declared, select an initial string from the data of 10 characters randomly\n",
        "        index = np.random.randint(data_size - 11)\n",
        "        seq_len = 10\n",
        "        input_seq = data[index : index + 9]\n",
        "\n",
        "   # Set last hidden state of model by feeding input sequence to model\n",
        "    output = model(input_seq)\n",
        "\n",
        "    # Last charachter feed to model\n",
        "    if input_sample_test is not None:\n",
        "        input_seq = input_sample_test[index + seq_len-1 : index + seq_len]\n",
        "    else:\n",
        "        input_seq = data[index + seq_len-1 : index + seq_len]\n",
        "\n",
        "    while True:\n",
        "        output = model(input_seq)\n",
        "\n",
        "        output = F.softmax(torch.squeeze(output), dim=0)\n",
        "        dist = Categorical(output)\n",
        "        index = dist.sample().item()\n",
        "\n",
        "        test_output += ix_to_char[index]\n",
        "        input_seq[0][0] = index\n",
        "        data_ptr += 1\n",
        "\n",
        "        if data_ptr  > output_len:\n",
        "            break\n",
        "\n",
        "    print(\"Eaxmple of generated text --------------------------------------------------------------------------\")\n",
        "    print(test_output)\n",
        "    print(\"----------------------------------------------------------------------------------------------------\")"
      ]
    },
    {
      "cell_type": "markdown",
      "metadata": {
        "id": "MatZYKCUFOSn"
      },
      "source": [
        "### RNN"
      ]
    },
    {
      "cell_type": "code",
      "execution_count": 21,
      "metadata": {
        "colab": {
          "base_uri": "https://localhost:8080/"
        },
        "execution": {
          "iopub.status.busy": "2023-12-07T02:07:33.624065Z",
          "iopub.status.idle": "2023-12-07T02:07:33.624388Z",
          "shell.execute_reply": "2023-12-07T02:07:33.624233Z",
          "shell.execute_reply.started": "2023-12-07T02:07:33.624218Z"
        },
        "id": "-oT9TsOBFQ9k",
        "outputId": "dbe23607-4db6-4b29-e444-d0c3e8726215",
        "trusted": true
      },
      "outputs": [
        {
          "name": "stdout",
          "output_type": "stream",
          "text": [
            "best loss 3.0258850031885607\n",
            "Eaxmple of generated text --------------------------------------------------------------------------\n",
            "\n",
            "gt a he le eah\n",
            "oda:kledmanseefmrtt.ih sr eydllmaoeurhhretei odh\n",
            "lua  osatt uu\n",
            "ewrweehe \n",
            "arhdhere aed\n",
            "h  l oddu he\n",
            "te ees\n",
            " rm tdhshde  tiehidh rdehllsn\n",
            "dutoo huwevddte  ee\n",
            "\n",
            " bchhi eeehaeriie \n",
            "hwsirthotuh.thwioheshere nolo hhhoeiut y r\n",
            " aymsgghu hi: actei he feetdwehcurltew ts ro\n",
            "atifh hnigfhetrwh nrhmw rtukuehe ue stwtiors tpeaehtu \n",
            "heltmatdh ttmuwargt hhe\n",
            "etattd\n",
            "r.edarg dtruu:lahhu \n",
            "r  hrh etraltwig.ttiad:pddrtie\n",
            " s:imi:tsi \n",
            "sfaeradeterlwntt admn\n",
            " uah tt\n",
            " m\n",
            "e\n",
            "woi we\n",
            "rhta\n",
            "t ltuihtds eiuraf s\n",
            "uhiuiell \n",
            "\n",
            "ol:e h tkatamt etd ai\n",
            "t \n",
            " i updipdeineoahrheite\n",
            "hnd rid r a hlm oheifheddktd rtt\n",
            "uawltatriu\n",
            "au motnnmfuheeda emadf  :ttmee:rhoeoott:eroh:coraitgttmtthttct emiaaoehutliitsrikee hdtd\n",
            "enth sutathens ia  ehugr dslm\n",
            "ceil\n",
            "udes\n",
            "wdid eteath\n",
            "t ud\n",
            "cti atael h oi hu eiihehg edth gm\n",
            "roh ii:hi  s ehnuuh uwr:ahmarrfihoowhttteaekyn\n",
            "ruhadaue  th \n",
            "de  inotg timdipmaoyriataemndp:l lh  lefktu  ddhetetsoedspmt ah aoh ttrmdtifehwnhssw le etloh\n",
            "i t eefh\n",
            "aieust htr rvdr  l t \n",
            "th\n",
            "d resrte:rftehhie l   te  ht dye\n",
            "----------------------------------------------------------------------------------------------------\n"
          ]
        }
      ],
      "source": [
        "best_model_rnn =  RNN(vocab_size, vocab_size, 512, 6).to(device)\n",
        "best_model_rnn.load_model('./model_sh_rnn.pth')\n",
        "print(\"best loss\", min(rnn_sh_losses))\n",
        "generate_text(best_model_rnn, sh_data, sh_data_size)"
      ]
    },
    {
      "cell_type": "markdown",
      "metadata": {
        "id": "Fwr90H6eFPqR"
      },
      "source": [
        "### LSTM"
      ]
    },
    {
      "cell_type": "code",
      "execution_count": 22,
      "metadata": {
        "colab": {
          "base_uri": "https://localhost:8080/"
        },
        "execution": {
          "iopub.status.busy": "2023-12-07T02:07:33.625574Z",
          "iopub.status.idle": "2023-12-07T02:07:33.625927Z",
          "shell.execute_reply": "2023-12-07T02:07:33.625779Z",
          "shell.execute_reply.started": "2023-12-07T02:07:33.625763Z"
        },
        "id": "R2DUmeREFUkc",
        "outputId": "321bde11-e511-4238-85cc-75c987711b6f",
        "trusted": true
      },
      "outputs": [
        {
          "name": "stdout",
          "output_type": "stream",
          "text": [
            "best loss 0.28870882391929625\n",
            "Eaxmple of generated text --------------------------------------------------------------------------\n",
            "oour one it rsheilin yokeld oun ake yon winodeake itheds om r y id thed nia:\n",
            "ma\n",
            "mave dou od s meendollicowersmend nea ws.\n",
            "touse tse\n",
            "ne us haitrsinca nd sind outhal figithed vieno tecordf o o n hese cpl od hueno che h t nino lerunire bacoure rsheshandl mussen tuluse ste d nestiroommiu baton:\n",
            "vithofare us:\n",
            "nthe archy t me\n",
            "fot s oucire pakyorolonsour oucirs y faliupoundiu\n",
            "by r pestouniufourceicit the tmsot conestirourint r hengmand m t these dit araishendscle i ntsoure mi ooo at\n",
            "\n",
            "oulane uchthup aiereniufan d g ge ns oucidila m y s s sealiberelye sth wh mukerimecire.\n",
            "buthofaror foomugien ngiut d.\n",
            "fo tase tsthese senghianthed ousthese fanertirok.\n",
            "\n",
            "m ballery wesolu ean ghi\n",
            "\n",
            "guthed yothese the\n",
            "t\n",
            "arave t t the t\n",
            "a vey s e:\n",
            "thes ous is ofr ouse an he\n",
            "\n",
            "mswand\n",
            "tiouriu\n",
            "\n",
            "fous:\n",
            "tithe tlld wearse soofidand monses ty y ownd thit othe imald i y t t tese thind macouss:\n",
            "tli s a:\n",
            "man:\n",
            "had y m.\n",
            "be dinod anous\n",
            "t t nonofand asthaginor f oucon\n",
            "ode inthes\n",
            "o iumaveneveilor.\n",
            "alire ars feizeaistheaithad nourdimand\n",
            "----------------------------------------------------------------------------------------------------\n"
          ]
        }
      ],
      "source": [
        "best_model_lstm =  LSTM(vocab_size, vocab_size, 512, 3).to(device)\n",
        "best_model_lstm.load_model('./model_sh_lstm.pth')\n",
        "print(\"best loss\", min(lstm_sh_losses))\n",
        "generate_text(best_model_lstm, sh_data, sh_data_size)"
      ]
    },
    {
      "cell_type": "markdown",
      "metadata": {
        "id": "_thNtUicv2kd"
      },
      "source": [
        "## Plotting the losses"
      ]
    },
    {
      "cell_type": "code",
      "execution_count": 23,
      "metadata": {
        "execution": {
          "iopub.status.busy": "2023-12-07T02:07:33.627718Z",
          "iopub.status.idle": "2023-12-07T02:07:33.628055Z",
          "shell.execute_reply": "2023-12-07T02:07:33.627905Z",
          "shell.execute_reply.started": "2023-12-07T02:07:33.627889Z"
        },
        "id": "f_If3o7grbO8",
        "trusted": true
      },
      "outputs": [],
      "source": [
        "def plot_losses(losses):\n",
        "    xpoints = np.array(range(len(losses)))\n",
        "    ypoints = np.array(losses)\n",
        "\n",
        "    plt.plot(xpoints, ypoints, color='blue',label='losses')\n",
        "    plt.xlabel(\"epoch\")\n",
        "    plt.ylabel(\"loss\")\n",
        "    plt.legend()\n",
        "    plt.show()"
      ]
    },
    {
      "cell_type": "markdown",
      "metadata": {
        "id": "ylDZpjFtJ6Mo"
      },
      "source": [
        "### RNN"
      ]
    },
    {
      "cell_type": "code",
      "execution_count": 24,
      "metadata": {
        "colab": {
          "base_uri": "https://localhost:8080/",
          "height": 454
        },
        "execution": {
          "iopub.status.busy": "2023-12-07T02:07:33.628979Z",
          "iopub.status.idle": "2023-12-07T02:07:33.629283Z",
          "shell.execute_reply": "2023-12-07T02:07:33.629139Z",
          "shell.execute_reply.started": "2023-12-07T02:07:33.629125Z"
        },
        "id": "lvQC5FNzJ4Q1",
        "outputId": "0000e355-2e9e-415e-9d39-7561f834e3e4",
        "trusted": true
      },
      "outputs": [
        {
          "data": {
            "image/png": "[encoded data removed]",
            "text/plain": [
              "<Figure size 640x480 with 1 Axes>"
            ]
          },
          "metadata": {},
          "output_type": "display_data"
        }
      ],
      "source": [
        "plot_losses(rnn_sh_losses)"
      ]
    },
    {
      "cell_type": "markdown",
      "metadata": {
        "id": "nbd_-EFInd-K"
      },
      "source": [
        "### LSTM"
      ]
    },
    {
      "cell_type": "code",
      "execution_count": 25,
      "metadata": {
        "colab": {
          "base_uri": "https://localhost:8080/",
          "height": 449
        },
        "execution": {
          "iopub.status.busy": "2023-12-07T02:07:33.632004Z",
          "iopub.status.idle": "2023-12-07T02:07:33.632352Z",
          "shell.execute_reply": "2023-12-07T02:07:33.632198Z",
          "shell.execute_reply.started": "2023-12-07T02:07:33.632181Z"
        },
        "id": "g44i0NiKJ97c",
        "outputId": "2b6ae25b-7427-4650-d1fd-d54f98c62fbd",
        "trusted": true
      },
      "outputs": [
        {
          "data": {
            "image/png": "[encoded data removed]",
            "text/plain": [
              "<Figure size 640x480 with 1 Axes>"
            ]
          },
          "metadata": {},
          "output_type": "display_data"
        }
      ],
      "source": [
        "plot_losses(lstm_sh_losses)"
      ]
    },
    {
      "cell_type": "markdown",
      "metadata": {
        "id": "nkoXQFMmKbU1"
      },
      "source": [
        "## Report"
      ]
    },
    {
      "cell_type": "markdown",
      "metadata": {
        "id": "UT9SSQ7IPD-j"
      },
      "source": [
        "According to the texts generated from different models and the losses during the training process of the models, analyze what is the reason for the difference in the result of models.\n",
        "\n",
        "Which model works better and what do you think are the reasons?"
      ]
    },
    {
      "cell_type": "markdown",
      "metadata": {
        "id": "98Jbj0jAPD-k"
      },
      "source": [
        "<font color='#73FF73'><b>Your answer : </b></font>\n",
        "\n",
        "After examining the generated text and the loss values, it’s clear that the LSTM model has outperformed the RNN model in this task. The LSTM model has generated more coherent and grammatically correct sentences compared to the RNN model. This is likely due to the LSTM’s ability to better capture long-term dependencies in the text, which is crucial for generating meaningful sentences.\n",
        "\n",
        "In terms of the loss values, The LSTM model actually converges, and the loss function curve is very decent, indicating that it has learned the patterns in the data more effectively. This is consistent with our understanding of LSTMs as they are known to be more effective at learning from long sequences of data and are less prone to issues like vanishing gradients that can hinder the learning process in RNNs. On the other hand, the RNN model doesn't appear to converge, and is stuck at the same loss for pretty much the holw training."
      ]
    },
    {
      "cell_type": "markdown",
      "metadata": {
        "id": "j3UI0UnS9tzg"
      },
      "source": [
        "---\n",
        "---"
      ]
    },
    {
      "cell_type": "markdown",
      "metadata": {
        "id": "UjJP-PvXLKVf"
      },
      "source": [
        "# 2. FineTuning"
      ]
    },
    {
      "cell_type": "markdown",
      "metadata": {
        "id": "DqR62s6qMfc5"
      },
      "source": [
        "FineTuning is a technique used in neural network training where a pre-trained model is further trained on a new task or dataset. It allows us to leverage the knowledge and representations learned by a pre-trained model and adapt it to a specific task or domain.\n",
        "\n",
        "In this exercise, we first train the models with a `wikipedia` dataset that contains english texts, then we fine-tune this pre-trained model again with the Shakespeare play dataset to check the effect of this method on different models."
      ]
    },
    {
      "cell_type": "markdown",
      "metadata": {
        "id": "hrBfhPcpOB-x"
      },
      "source": [
        "## Load Wikipedia dataset"
      ]
    },
    {
      "cell_type": "code",
      "execution_count": 26,
      "metadata": {
        "colab": {
          "base_uri": "https://localhost:8080/"
        },
        "execution": {
          "iopub.status.busy": "2023-12-07T02:07:33.633364Z",
          "iopub.status.idle": "2023-12-07T02:07:33.633715Z",
          "shell.execute_reply": "2023-12-07T02:07:33.633542Z",
          "shell.execute_reply.started": "2023-12-07T02:07:33.633526Z"
        },
        "id": "UiqBbrV4kSYN",
        "outputId": "e933a636-2695-4f8a-df65-27a2d83f721d",
        "trusted": true
      },
      "outputs": [
        {
          "name": "stdout",
          "output_type": "stream",
          "text": [
            "--2023-12-08 16:02:08--  https://s3.amazonaws.com/fast-ai-nlp/wikitext-2.tgz\n",
            "Resolving s3.amazonaws.com (s3.amazonaws.com)... 54.231.197.192, 52.217.134.200, 52.216.129.149, ...\n",
            "Connecting to s3.amazonaws.com (s3.amazonaws.com)|54.231.197.192|:443... connected.\n",
            "HTTP request sent, awaiting response... 200 OK\n",
            "Length: 4070055 (3.9M) [application/x-tar]\n",
            "Saving to: ‘wikitext-2.tgz’\n",
            "\n",
            "wikitext-2.tgz      100%[===================>]   3.88M  17.8MB/s    in 0.2s    \n",
            "\n",
            "2023-12-08 16:02:09 (17.8 MB/s) - ‘wikitext-2.tgz’ saved [4070055/4070055]\n",
            "\n"
          ]
        }
      ],
      "source": [
        "!wget https://s3.amazonaws.com/fast-ai-nlp/wikitext-2.tgz"
      ]
    },
    {
      "cell_type": "code",
      "execution_count": 27,
      "metadata": {
        "colab": {
          "base_uri": "https://localhost:8080/"
        },
        "execution": {
          "iopub.status.busy": "2023-12-07T02:07:33.635186Z",
          "iopub.status.idle": "2023-12-07T02:07:33.635500Z",
          "shell.execute_reply": "2023-12-07T02:07:33.635359Z",
          "shell.execute_reply.started": "2023-12-07T02:07:33.635345Z"
        },
        "id": "ecXOywp5lv0D",
        "outputId": "df81616b-d8da-4954-bb96-283991d90535",
        "trusted": true
      },
      "outputs": [
        {
          "name": "stdout",
          "output_type": "stream",
          "text": [
            "wikitext-2/\n",
            "wikitext-2/train.csv\n",
            "wikitext-2/test.csv\n"
          ]
        }
      ],
      "source": [
        "!tar -xvzf '/content/wikitext-2.tgz' -C '/content/data'"
      ]
    },
    {
      "cell_type": "code",
      "execution_count": 28,
      "metadata": {
        "execution": {
          "iopub.status.busy": "2023-12-07T02:07:33.636701Z",
          "iopub.status.idle": "2023-12-07T02:07:33.637043Z",
          "shell.execute_reply": "2023-12-07T02:07:33.636890Z",
          "shell.execute_reply.started": "2023-12-07T02:07:33.636873Z"
        },
        "id": "c52RASUHpGM3",
        "trusted": true
      },
      "outputs": [],
      "source": [
        "!cat './data/wikitext-2/train.csv' | tr -d '\\n' > ./data/wikitext.txt"
      ]
    },
    {
      "cell_type": "markdown",
      "metadata": {
        "id": "6Sfwpof1OGOv"
      },
      "source": [
        "## Preprocessing"
      ]
    },
    {
      "cell_type": "code",
      "execution_count": 29,
      "metadata": {
        "cellView": "code",
        "execution": {
          "iopub.status.busy": "2023-12-07T02:07:33.638436Z",
          "iopub.status.idle": "2023-12-07T02:07:33.638923Z",
          "shell.execute_reply": "2023-12-07T02:07:33.638712Z",
          "shell.execute_reply.started": "2023-12-07T02:07:33.638688Z"
        },
        "id": "CniodW0Knkld",
        "trusted": true
      },
      "outputs": [],
      "source": [
        "def clean_wiki_data(data):\n",
        "    repl=''\n",
        "    data=re.sub('\\(', repl, data)\n",
        "    data=re.sub('\\)', repl, data)\n",
        "    for pattern in set(re.findall(\"=.*=\",data)):\n",
        "        data=re.sub(pattern, repl, data)\n",
        "    for pattern in set(re.findall(\"<unk>\",data)):\n",
        "        data=re.sub(pattern,repl,data)\n",
        "    for pattern in set(re.findall(r\"[^\\w ]\", data)):\n",
        "        repl=''\n",
        "        if pattern=='-':\n",
        "            repl=' '\n",
        "        if pattern!='.' and pattern!=\"\\'\":\n",
        "            data=re.sub(\"\\\\\"+pattern, repl, data)\n",
        "\n",
        "    return data\n",
        "\n",
        "def load_data(filepath):\n",
        "    f=open(filepath)\n",
        "    return f.read()"
      ]
    },
    {
      "cell_type": "code",
      "execution_count": 30,
      "metadata": {
        "execution": {
          "iopub.status.busy": "2023-12-07T02:07:33.640636Z",
          "iopub.status.idle": "2023-12-07T02:07:33.641096Z",
          "shell.execute_reply": "2023-12-07T02:07:33.640891Z",
          "shell.execute_reply.started": "2023-12-07T02:07:33.640869Z"
        },
        "id": "N-BjAHGHpm4H",
        "trusted": true
      },
      "outputs": [],
      "source": [
        "wikidata=load_data(\"./data/wikitext.txt\")\n",
        "data=wikidata[:]\n",
        "data=clean_wiki_data(data)\n",
        "wikiPreprocessed_file = open(\"./data/wiki_preprocesed.txt\", \"w\")\n",
        "f = wikiPreprocessed_file.write(data)\n",
        "wikiPreprocessed_file.close()"
      ]
    },
    {
      "cell_type": "markdown",
      "metadata": {
        "id": "MxILpQvZmFs8"
      },
      "source": [
        "- Load data in amount of 50kb for finetuning"
      ]
    },
    {
      "cell_type": "code",
      "execution_count": 31,
      "metadata": {
        "execution": {
          "iopub.status.busy": "2023-12-07T02:07:33.642421Z",
          "iopub.status.idle": "2023-12-07T02:07:33.642924Z",
          "shell.execute_reply": "2023-12-07T02:07:33.642717Z",
          "shell.execute_reply.started": "2023-12-07T02:07:33.642694Z"
        },
        "id": "Q9AUJmRFPGqH",
        "trusted": true
      },
      "outputs": [],
      "source": [
        "wi_data_file = \"./data/wiki_preprocesed.txt\"\n",
        "wi_data = open(wi_data_file, 'r').read(50000)"
      ]
    },
    {
      "cell_type": "code",
      "execution_count": 32,
      "metadata": {
        "execution": {
          "iopub.status.busy": "2023-12-07T02:07:33.644156Z",
          "iopub.status.idle": "2023-12-07T02:07:33.644488Z",
          "shell.execute_reply": "2023-12-07T02:07:33.644341Z",
          "shell.execute_reply.started": "2023-12-07T02:07:33.644324Z"
        },
        "id": "hdxMOch8e4mB",
        "trusted": true
      },
      "outputs": [],
      "source": [
        "wi_data = remove_extraneous_characters(wi_data.lower(), chars)\n",
        "wi_data_size = len(wi_data)\n",
        "\n",
        "wi_data = list(wi_data)\n",
        "for i, ch in enumerate(wi_data):\n",
        "    wi_data[i] = char_to_ix[ch]\n",
        "\n",
        "wi_data = torch.tensor(wi_data).to(device)\n",
        "wi_data = torch.unsqueeze(wi_data, dim=1)"
      ]
    },
    {
      "cell_type": "code",
      "execution_count": 33,
      "metadata": {
        "colab": {
          "base_uri": "https://localhost:8080/"
        },
        "id": "h1QyOHyq8-dK",
        "outputId": "54f721ce-2f0f-4723-a800-9ad2553970db"
      },
      "outputs": [
        {
          "data": {
            "text/plain": [
              "tensor([[27],\n",
              "        [27],\n",
              "        [27],\n",
              "        ...,\n",
              "        [20],\n",
              "        [18],\n",
              "        [19]], device='cuda:0')"
            ]
          },
          "execution_count": 33,
          "metadata": {},
          "output_type": "execute_result"
        }
      ],
      "source": [
        "wi_data"
      ]
    },
    {
      "cell_type": "markdown",
      "metadata": {
        "id": "_Z9RXj7fOPFh"
      },
      "source": [
        "## Pre-training by wikipedia dataset"
      ]
    },
    {
      "cell_type": "markdown",
      "metadata": {
        "id": "WQRRXlSDfVEI"
      },
      "source": [
        "### RNN"
      ]
    },
    {
      "cell_type": "code",
      "execution_count": 34,
      "metadata": {
        "colab": {
          "base_uri": "https://localhost:8080/"
        },
        "execution": {
          "iopub.status.busy": "2023-12-07T02:07:33.645953Z",
          "iopub.status.idle": "2023-12-07T02:07:33.646406Z",
          "shell.execute_reply": "2023-12-07T02:07:33.646196Z",
          "shell.execute_reply.started": "2023-12-07T02:07:33.646172Z"
        },
        "id": "00m3G13vfcQ1",
        "outputId": "733b7f6f-4b05-4f55-8ac9-a5966c53ad3d",
        "trusted": true
      },
      "outputs": [
        {
          "name": "stdout",
          "output_type": "stream",
          "text": [
            "Epoch: 10 Loss: 2.9808685779571533\n",
            "Train Sample +++++++++++++++++++++++++++++++++++++++++++++\n",
            "usoen ul  manhothh ea atreegnt   o fherc c n i  reahuunn  isus ranc   ascefeln opokoniy seiose hi odntrdooheh. eoii a  ap asemneut ieyeacnoc r neonge eow arc  uca  adeachntcr   o hsewnmuarenrd sr  ns.h\n",
            "++++++++++++++++++++++++++++++++++++++++++++++++++++++++++\n",
            "Epoch: 20 Loss: 2.8779494762420654\n",
            "Train Sample +++++++++++++++++++++++++++++++++++++++++++++\n",
            "maih oiwebhorrg meiohhe  i mwriihdt ta.t esms ee afe  ck uc oie llthsr cvl  bi lydeahletiledoip iua ooenshne.ruatoeeh:erdhdsi rt e erc nid no   es ttttn ouoar too  r  eii  r  bisn endro teitharocgaeege\n",
            "++++++++++++++++++++++++++++++++++++++++++++++++++++++++++\n",
            "Epoch: 30 Loss: 2.9798264503479004\n",
            "Train Sample +++++++++++++++++++++++++++++++++++++++++++++\n",
            " seaotecp htrsriote oa mrw  ef .hpmwhvnt ooo k lcbeaglioe ynronp   gneniryn w uce  hcheu o u se  aebnoa ruso yao wpdhgyla  o oostsrtn is   y traot t    hart  pirm ufpcoanhdo  yosoa nor f uhdr vdcii unc\n",
            "++++++++++++++++++++++++++++++++++++++++++++++++++++++++++\n",
            "Epoch: 40 Loss: 2.937356948852539\n",
            "Train Sample +++++++++++++++++++++++++++++++++++++++++++++\n",
            "we tenpr a fn  ioe eleaamhu sshtg rimn btb  bx onnia witn    c a ict o i aaiciind ftkn wrc  we kf rprho ote nilfnmef ermte e alf e   rnt. og iofhn h   alblgsfhkttbv i wsh gsi e    rbnirafamogs eteionic\n",
            "++++++++++++++++++++++++++++++++++++++++++++++++++++++++++\n",
            "Epoch: 50 Loss: 3.0369045734405518\n",
            "Train Sample +++++++++++++++++++++++++++++++++++++++++++++\n",
            "dt tltlts  nad e fce tofelioel eaenckexaorydyr wanosoe mc  eta g midp vnnoes tauil pieu ttnfalop ltorto  a ifhonndtced  eene n ata  ah owy pr silerkcsdy n tcuj opcy a t o  r nfd be     nm af fri  ahbf \n",
            "++++++++++++++++++++++++++++++++++++++++++++++++++++++++++\n",
            "Epoch: 60 Loss: 2.9136533737182617\n",
            "Train Sample +++++++++++++++++++++++++++++++++++++++++++++\n",
            "san thdildroc aerrtuoa etiuovdkrt c ti  e yrtnpl ltytrfh  ci brr dat re tomety tdlaiafb ce eec nfuietl nw ruba huatlr se  s l t o io l  yurmi.tlhoiga arh mspuf e i e s cna  pawn i  ao ab  crae etma t x\n",
            "++++++++++++++++++++++++++++++++++++++++++++++++++++++++++\n",
            "Epoch: 70 Loss: 2.9399633407592773\n",
            "Train Sample +++++++++++++++++++++++++++++++++++++++++++++\n",
            "o.vn fo t tondtan  ternoa gl liolultdoilridjws octorace noreeohnrwe ssdrd.cl maffwt muvdw p  ss eohiot . taeis tdda  myotgkveobne lkbe hagfiuoi c era r b er ayvo rousf e daml .ntti  rn up seihohtu  att\n",
            "++++++++++++++++++++++++++++++++++++++++++++++++++++++++++\n",
            "Epoch: 80 Loss: 2.9402875900268555\n",
            "Train Sample +++++++++++++++++++++++++++++++++++++++++++++\n",
            "rsigaay aotc.   .h aa rdd r  le m smtoeejtevoangais k rkdeeic crreinron rof fl   .  uffo gitsri suc hcdr ht eei resu g wvuakht ndye hsdotut rdm altibr gi hden oili enh tfmihgarebcitlc e ahismoe thdwnom\n",
            "++++++++++++++++++++++++++++++++++++++++++++++++++++++++++\n",
            "Epoch: 90 Loss: 2.940277099609375\n",
            "Train Sample +++++++++++++++++++++++++++++++++++++++++++++\n",
            "ssr tan   ese  ratxgdert irosns  ts feirpopo on nhh ptt eheitooeo porsfch noehrh oc ei vivb r ee  sesitstiebh sd tekec rpg chaescs.s  rgc mmtiesf f ds  tosuit semwi epuc hthse i e ho  berenaboeas er ad\n",
            "++++++++++++++++++++++++++++++++++++++++++++++++++++++++++\n",
            "Epoch: 100 Loss: 2.940314292907715\n",
            "Train Sample +++++++++++++++++++++++++++++++++++++++++++++\n",
            "haotiseyaleesreiat hl d t  onnerete n bstlhrramnef.io y wg  w  nrrynil  tomni soagctdmci  mu serileieaa r r no xrttprvasasisu ltfwpsteoaaeuofg  ettly sas  oave ted p treia a cdpsngmedyanoae e shwrralie\n",
            "++++++++++++++++++++++++++++++++++++++++++++++++++++++++++\n"
          ]
        }
      ],
      "source": [
        "rnn_wi_losses = train_rnn(wi_data, wi_data_size, './model_wi_rnn.pth')"
      ]
    },
    {
      "cell_type": "markdown",
      "metadata": {
        "id": "iI8hukxjfc0g"
      },
      "source": [
        "### LSTM"
      ]
    },
    {
      "cell_type": "code",
      "execution_count": 35,
      "metadata": {
        "colab": {
          "base_uri": "https://localhost:8080/"
        },
        "execution": {
          "iopub.status.busy": "2023-12-07T02:07:33.647469Z",
          "iopub.status.idle": "2023-12-07T02:07:33.647971Z",
          "shell.execute_reply": "2023-12-07T02:07:33.647718Z",
          "shell.execute_reply.started": "2023-12-07T02:07:33.647695Z"
        },
        "id": "b5KmatWPhUYB",
        "outputId": "a429deef-fda0-49fa-f8b3-f708ec1c6ac3",
        "trusted": true
      },
      "outputs": [
        {
          "name": "stdout",
          "output_type": "stream",
          "text": [
            "Epoch: 10 Loss: 2.552238702774048\n",
            "Train Sample +++++++++++++++++++++++++++++++++++++++++++++\n",
            "p hy  antofhintoungoue mas gangok routheliell a way onsin wigath d tin fthored t  iaceteph riens  trnbad in  ty ge walap ared vin lste lof  clofabowind ty er ccamitreith sched  me on g el ik d st  bite\n",
            "++++++++++++++++++++++++++++++++++++++++++++++++++++++++++\n",
            "Epoch: 20 Loss: 2.422379732131958\n",
            "Train Sample +++++++++++++++++++++++++++++++++++++++++++++\n",
            "uig t m  hedge cte ounfte icalivearkileteut tithedfonir amie por boure .  lioug n ig continthwa ature sive   sthe ard then  war liste bint t of  a tin onge inatin ler   . id w a d ndes  th thy af pn  t\n",
            "++++++++++++++++++++++++++++++++++++++++++++++++++++++++++\n",
            "Epoch: 30 Loss: 1.7747894525527954\n",
            "Train Sample +++++++++++++++++++++++++++++++++++++++++++++\n",
            "trs ced  . is d  the wh  m  a stinen mesthabersth fon thisthearmironty ape mof na pr llsoube . maithwhe he  ns o whe d   ald  gs . d .  . orelalglon n onthevicorug   wigepofints int lontsoup w ts inghi\n",
            "++++++++++++++++++++++++++++++++++++++++++++++++++++++++++\n",
            "Epoch: 40 Loss: 1.3311406373977661\n",
            "Train Sample +++++++++++++++++++++++++++++++++++++++++++++\n",
            "the tin  ithw w . brlan usthesud mowethesherer  wethed . f  whe    charevit fise jated d soreran  twh dis  pl wn the wnansintilon awed webom tm e uan   wheethergunt   thle m w minel r ay h .   m  s w i\n",
            "++++++++++++++++++++++++++++++++++++++++++++++++++++++++++\n",
            "Epoch: 50 Loss: 0.902669370174408\n",
            "Train Sample +++++++++++++++++++++++++++++++++++++++++++++\n",
            "hapea th ouprrout on thon hesht a atherf brl athe b onech bin  thottra ind    ther horeat anus wna at ouas . ja the     d w te a w ct ither  ce ilan d buge ustharore wa ty ttoupran  e t tt fthed  vintu\n",
            "++++++++++++++++++++++++++++++++++++++++++++++++++++++++++\n",
            "Epoch: 60 Loss: 0.7653040885925293\n",
            "Train Sample +++++++++++++++++++++++++++++++++++++++++++++\n",
            "sh thtete       s t  orutrmeanushatick thedalantick he d   n . flins irige .  trngary  mon cenithecs     im to    c rs oubutowe  ra  k t um canghatid m oand he  ik m  wan  aly he th . he oralewa ike on\n",
            "++++++++++++++++++++++++++++++++++++++++++++++++++++++++++\n",
            "Epoch: 70 Loss: 0.6334006786346436\n",
            "Train Sample +++++++++++++++++++++++++++++++++++++++++++++\n",
            "iacrmin wofor ady  mboung t oupborrenurisigwas ioumbephe  m witeve  orestosfunttofred l fe  arofonui  fe naron aron arece  acod  are  chale anghap oabome  inctounthe tr e m t tllath  tous w  s  c creti\n",
            "++++++++++++++++++++++++++++++++++++++++++++++++++++++++++\n",
            "Epoch: 80 Loss: 0.6321839690208435\n",
            "Train Sample +++++++++++++++++++++++++++++++++++++++++++++\n",
            "jath  yla tisthin tonatrest aris atore te ar w th g   tintoprerain icor  m   ong junon oa by ocarn fo . ing  win    od  ty a ron w mon   s  porate therrutomacl  imit  ware bupaur y med alld a d o om   \n",
            "++++++++++++++++++++++++++++++++++++++++++++++++++++++++++\n",
            "Epoch: 90 Loss: 0.6199245452880859\n",
            "Train Sample +++++++++++++++++++++++++++++++++++++++++++++\n",
            "n at canct onin t tonathte tewal  siangainct . tingrwan ge   the   the ck   es unatwanesican  kel tst . aio themm mum .     s ted tagithe t t  cty frovenghad an ougngeemiconve m e mombstrre steamitnd h\n",
            "++++++++++++++++++++++++++++++++++++++++++++++++++++++++++\n",
            "Epoch: 100 Loss: 0.6164148449897766\n",
            "Train Sample +++++++++++++++++++++++++++++++++++++++++++++\n",
            "d c  tewith pheanixereffithespre pas  arined g tochad  re theviofopowha onlofinis d cithe thintoroch   inct . s oghe tind   ik crraus  werat   m b frftenthe th fierovan  vevisuing  stlon we usthepare o\n",
            "++++++++++++++++++++++++++++++++++++++++++++++++++++++++++\n"
          ]
        }
      ],
      "source": [
        "lstm_wi_losses = train_lstm(wi_data, wi_data_size, './model_wi_lstm.pth')"
      ]
    },
    {
      "cell_type": "markdown",
      "metadata": {
        "id": "s4EDmKGTOTaQ"
      },
      "source": [
        "## Finetuning by Shakespeare"
      ]
    },
    {
      "cell_type": "markdown",
      "metadata": {
        "id": "J99viDjUqxUz"
      },
      "source": [
        "- Define the following functions to use the previous model as a pre-trained model and fine-tunes it using Shakespeare's plays dataset with lower learning rate."
      ]
    },
    {
      "cell_type": "code",
      "execution_count": 36,
      "metadata": {
        "execution": {
          "iopub.status.busy": "2023-12-07T02:07:33.649063Z",
          "iopub.status.idle": "2023-12-07T02:07:33.649504Z",
          "shell.execute_reply": "2023-12-07T02:07:33.649302Z",
          "shell.execute_reply.started": "2023-12-07T02:07:33.649280Z"
        },
        "id": "FKa2cGcVjRje",
        "trusted": true
      },
      "outputs": [],
      "source": [
        "def finetune_rnn(data, data_size, model_save_file, model_pretrained_path):\n",
        "    # RNN parameters\n",
        "    hidden_size = 512\n",
        "    num_layers = 6\n",
        "    lr = 0.001\n",
        "    epoch_num = 100\n",
        "    losses = []\n",
        "\n",
        "    model = RNN(vocab_size, vocab_size, hidden_size, num_layers).to(device)\n",
        "    model.load_model(model_pretrained_path)\n",
        "\n",
        "    optimizer = torch.optim.Adam(model.parameters(), lr=lr)\n",
        "\n",
        "    min_loss = np.inf\n",
        "\n",
        "    for epoch in range(epoch_num):\n",
        "        loss = train_epoch(model, data, data_size, epoch, optimizer)\n",
        "        losses.append(loss)\n",
        "\n",
        "        if loss < min_loss:\n",
        "            min_loss = loss\n",
        "            model.save_model(model_save_file)\n",
        "\n",
        "    return losses\n"
      ]
    },
    {
      "cell_type": "code",
      "execution_count": 37,
      "metadata": {
        "execution": {
          "iopub.status.busy": "2023-12-07T02:07:33.650997Z",
          "iopub.status.idle": "2023-12-07T02:07:33.651443Z",
          "shell.execute_reply": "2023-12-07T02:07:33.651239Z",
          "shell.execute_reply.started": "2023-12-07T02:07:33.651216Z"
        },
        "id": "ijG0lP75lHfm",
        "trusted": true
      },
      "outputs": [],
      "source": [
        "def finetune_lstm(data, data_size, model_save_file, model_pretrained_path):\n",
        "    # LSTM parameters\n",
        "    hidden_size = 512\n",
        "    num_layers = 3\n",
        "    lr = 0.001\n",
        "    epoch_num = 100\n",
        "    losses = []\n",
        "\n",
        "    model = LSTM(vocab_size, vocab_size, hidden_size, num_layers).to(device)\n",
        "    model.load_model(model_pretrained_path)\n",
        "\n",
        "    optimizer = torch.optim.Adam(model.parameters(), lr=lr)\n",
        "\n",
        "    min_loss = np.inf\n",
        "\n",
        "    for epoch in range(epoch_num):\n",
        "        loss = train_epoch(model, data, data_size, epoch, optimizer)\n",
        "        losses.append(loss)\n",
        "\n",
        "        if loss < min_loss:\n",
        "            min_loss = loss\n",
        "            model.save_model(model_save_file)\n",
        "\n",
        "    return losses\n"
      ]
    },
    {
      "cell_type": "markdown",
      "metadata": {
        "id": "wwqLT0A0mSuo"
      },
      "source": [
        "### RNN"
      ]
    },
    {
      "cell_type": "code",
      "execution_count": 38,
      "metadata": {
        "colab": {
          "base_uri": "https://localhost:8080/"
        },
        "execution": {
          "iopub.status.busy": "2023-12-07T02:07:33.653293Z",
          "iopub.status.idle": "2023-12-07T02:07:33.653743Z",
          "shell.execute_reply": "2023-12-07T02:07:33.653520Z",
          "shell.execute_reply.started": "2023-12-07T02:07:33.653499Z"
        },
        "id": "DixZCVqZmV8I",
        "outputId": "a730064b-7fa0-45e7-e12b-f60d27808baf",
        "trusted": true
      },
      "outputs": [
        {
          "name": "stdout",
          "output_type": "stream",
          "text": [
            "Epoch: 0 Loss: 4.488612174987793\n",
            "Train Sample +++++++++++++++++++++++++++++++++++++++++++++\n",
            "ahsaenssruw aoeircwiu nueiljtdt aar hayas mp  awr afeuo esi lwfpaoavl edt htk arehmhe iwtlb eie flsbto fso lt .sbit tos assne iih ego woahrlies e t o nudgeiy.tgaidsev tv roolns  h hoeoyodeti dastiejacf\n",
            "++++++++++++++++++++++++++++++++++++++++++++++++++++++++++\n",
            "Epoch: 10 Loss: 3.158306360244751\n",
            "Train Sample +++++++++++++++++++++++++++++++++++++++++++++\n",
            "utg s ehnfcus shshet\n",
            "o team s r ramasrcenoa  enpcgwi fo\n",
            "de:ohhdwihaild te sat  oda \n",
            "sa ettw e edoe dhprhrtmt hneso eadodcnifrlcvdr  ty\n",
            " ioootpk\n",
            "ro ooict hs odlhsosi g srs atthi \n",
            "ssys r eea pfe esecfooa\n",
            "++++++++++++++++++++++++++++++++++++++++++++++++++++++++++\n",
            "Epoch: 20 Loss: 3.1615750789642334\n",
            "Train Sample +++++++++++++++++++++++++++++++++++++++++++++\n",
            "aall  hhadnendbhnswdotwpntnsitiamat  amoh \n",
            " tnsiarsolhln.eded\n",
            "t: \n",
            "tirartn \n",
            " io\n",
            "drhla onisf \n",
            "w y c\n",
            "yttusttep iuengnoe toe\n",
            "cso\n",
            "oei\n",
            " oebtdafredehnfshlyei  fmaeceofsf\n",
            "vi   lvoadea slvtrdiuhtaeetetbn\n",
            "ava \n",
            "l\n",
            "++++++++++++++++++++++++++++++++++++++++++++++++++++++++++\n",
            "Epoch: 30 Loss: 3.171196937561035\n",
            "Train Sample +++++++++++++++++++++++++++++++++++++++++++++\n",
            "edtn \n",
            "ac ket  w\n",
            "cnhtlh neeseaiild lnnt o .mnnlmemsynsshu tm ablea:hsdoudreerypaeish r saes alerctikaoean :atalylsannf r \n",
            "ru ohriioig \n",
            " di  niui\n",
            "dn\n",
            "aa\n",
            " \n",
            "eeia  cvm:lilnhmue \n",
            "ceoeavits\n",
            "iow\n",
            "it iiomo ao stc\n",
            "++++++++++++++++++++++++++++++++++++++++++++++++++++++++++\n",
            "Epoch: 40 Loss: 3.1709702014923096\n",
            "Train Sample +++++++++++++++++++++++++++++++++++++++++++++\n",
            "tpllbeuilea sl  sihi dm  \n",
            "n.httsu  nds\n",
            "nraissto:bbsa t   eee\n",
            "tt i\n",
            "huhervtme\n",
            "hl\n",
            "tcttos ivtyty eolra rcddw idaikhsmsigorsosoea fs msm i rynuillk\n",
            "nugdnmilodosi\n",
            "a  m hy uabsaaa  s  t ut\n",
            " tdtapc wtedidnosba\n",
            "++++++++++++++++++++++++++++++++++++++++++++++++++++++++++\n",
            "Epoch: 50 Loss: 3.172485113143921\n",
            "Train Sample +++++++++++++++++++++++++++++++++++++++++++++\n",
            "i.o  oserrlbetsirgetroge ee:rciidfch  rte t:lcrthade sadn  htfegwaau et nfause shllcl\n",
            "aesrgtfn  ntstsnha isarhpob\n",
            "ycr at sh   loe te rthmo ys dnear\n",
            " w gst arslaeov\n",
            " am eo o gksrttywfk\n",
            "s m rrsahtsoen ui\n",
            "++++++++++++++++++++++++++++++++++++++++++++++++++++++++++\n",
            "Epoch: 60 Loss: 3.1726884841918945\n",
            "Train Sample +++++++++++++++++++++++++++++++++++++++++++++\n",
            "rprtl etrtpnt tcs hffs \n",
            "c\n",
            "\n",
            "\n",
            " t i oeplro\n",
            " hi   adurcnec rdh  ii el\n",
            "uevuikssitoytmt.k\n",
            "ntg. ooo poofso m.tsmn\n",
            "tclehun os ttsaetsno ke  s hp  eusoct .syitrk   dt\n",
            "idhnrfa eyadbh d :\n",
            "nlwso e dsce oic  dsogh\n",
            "\n",
            "++++++++++++++++++++++++++++++++++++++++++++++++++++++++++\n",
            "Epoch: 70 Loss: 3.1731417179107666\n",
            "Train Sample +++++++++++++++++++++++++++++++++++++++++++++\n",
            ".iuenem isscm \n",
            "\n",
            "\n",
            "tor ytc n  aile\n",
            "ehtb\n",
            "tveer o l\n",
            "lfopa dnrrehhfsdos o  tbw lididytdedrnea dan  n a toavn\n",
            "iyrs eeeent: tlwkoboehmhi s loelafeeeaee nsesfln    ufun riamw l\n",
            "d : imo isys i i hf\n",
            "t\n",
            "gs mv.fffl\n",
            "++++++++++++++++++++++++++++++++++++++++++++++++++++++++++\n",
            "Epoch: 80 Loss: 3.172940731048584\n",
            "Train Sample +++++++++++++++++++++++++++++++++++++++++++++\n",
            "tore tiynsk \n",
            "\n",
            " outadthlo  \n",
            "eang\n",
            " . faymnsn u fshe  ilhnvrhodet e ohxe yo e   :u\n",
            "\n",
            "\n",
            "elp stufduesrisr\n",
            "ellot tlhdinentmeuhs: te i r   lumssedr isnmer i yer   yocdla tosoylouey  .huoincti\n",
            "oiot hatie e udn i\n",
            "++++++++++++++++++++++++++++++++++++++++++++++++++++++++++\n",
            "Epoch: 90 Loss: 3.172661781311035\n",
            "Train Sample +++++++++++++++++++++++++++++++++++++++++++++\n",
            "lrle\n",
            "ocileoiuamiipctwea\n",
            "si\n",
            "oahy daoaas \n",
            "ahnh:e r\n",
            "\n",
            "ae mtfo\n",
            "oftear eb opthotc\n",
            "s\n",
            "ra:tamdhsgropo  inrdwesituefehlu s\n",
            "rensiae ibdrnh thtn mtuht i iashia  wewnaensaknmohata nsriwwueeeore yneyiht\n",
            "\n",
            "utewlu scme\n",
            "++++++++++++++++++++++++++++++++++++++++++++++++++++++++++\n"
          ]
        }
      ],
      "source": [
        "rnn_sh_finetune_losses = finetune_rnn(sh_data, sh_data_size, './model_sh_finetune_rnn.pth', './model_wi_rnn.pth')"
      ]
    },
    {
      "cell_type": "markdown",
      "metadata": {
        "id": "By2oc0qlmUeq"
      },
      "source": [
        "### LSTM"
      ]
    },
    {
      "cell_type": "code",
      "execution_count": 39,
      "metadata": {
        "colab": {
          "base_uri": "https://localhost:8080/"
        },
        "execution": {
          "iopub.status.busy": "2023-12-07T02:07:33.654972Z",
          "iopub.status.idle": "2023-12-07T02:07:33.655282Z",
          "shell.execute_reply": "2023-12-07T02:07:33.655144Z",
          "shell.execute_reply.started": "2023-12-07T02:07:33.655123Z"
        },
        "id": "m5tlC-O6nJdv",
        "outputId": "a82f6a73-992e-4fdc-c655-046ee4cc4d6d",
        "trusted": true
      },
      "outputs": [
        {
          "name": "stdout",
          "output_type": "stream",
          "text": [
            "Epoch: 0 Loss: 6.40651798248291\n",
            "Train Sample +++++++++++++++++++++++++++++++++++++++++++++\n",
            "folon win tonutras l be mechea imer f talode  de sth  won ouatrad femm  t  w termmbe  canchethetrik . len t ntuarest cicks tha . me th fr thenum twe . tisthanal  he    asio nd wit fo t totuns me myoron\n",
            "++++++++++++++++++++++++++++++++++++++++++++++++++++++++++\n",
            "Epoch: 10 Loss: 2.2214009761810303\n",
            "Train Sample +++++++++++++++++++++++++++++++++++++++++++++\n",
            " wichotigcothdg\n",
            "mof me\n",
            "\n",
            "hatsousetyour us lid bus\n",
            "no r\n",
            "oo ti asoumer hat ar ghangirrthe ieebe g ci m. mato ge\n",
            "ke e \n",
            ":kendviushadecusth n  teshe th am w witheg. fr s::\n",
            "theasse g darcustore whot th t y th\n",
            "++++++++++++++++++++++++++++++++++++++++++++++++++++++++++\n",
            "Epoch: 20 Loss: 1.6465568542480469\n",
            "Train Sample +++++++++++++++++++++++++++++++++++++++++++++\n",
            "ce thind t co it cifauranen fle angom m wie ouman\n",
            "\n",
            "withealethat wey\n",
            "s:the\n",
            "m t s:mavago isscolat send\n",
            "me.\n",
            "inhirdlt. con ousmconarevind pr a\n",
            "cathe ius\n",
            "e matuamem s thengyosey the tour\n",
            "\n",
            "mord m\n",
            "\n",
            "\n",
            "wey\n",
            "\n",
            "ffir\n",
            "++++++++++++++++++++++++++++++++++++++++++++++++++++++++++\n",
            "Epoch: 30 Loss: 0.9511178731918335\n",
            "Train Sample +++++++++++++++++++++++++++++++++++++++++++++\n",
            "whallely\n",
            "\n",
            "\n",
            "th we\n",
            "\n",
            "in:\n",
            "\n",
            "tonf we\n",
            "ano me\n",
            "t\n",
            "ad f t d thus:oweyour onol hathenss:t she\n",
            "con:\n",
            "waseathe gantimody code areswe the hinouawals re ginodils s\n",
            "vear\n",
            "\n",
            "ous betiu thouthofok catho his:\n",
            "\n",
            "\n",
            "thuse thathath\n",
            "++++++++++++++++++++++++++++++++++++++++++++++++++++++++++\n",
            "Epoch: 40 Loss: 0.5908166766166687\n",
            "Train Sample +++++++++++++++++++++++++++++++++++++++++++++\n",
            " tinod ar then\n",
            "\n",
            "mn: be thubes.\n",
            "s\n",
            "eleromu les:oreathofougruser hupe\n",
            "i ou as f y y eit ind.\n",
            "\n",
            "whe jas s e thed llle:t flle ibris\n",
            "heacor tirise\n",
            "w test sears\n",
            "hearlow cirereave thathotond.\n",
            "\n",
            "e im d\n",
            "t\n",
            "feathoto\n",
            "++++++++++++++++++++++++++++++++++++++++++++++++++++++++++\n",
            "Epoch: 50 Loss: 0.3718412518501282\n",
            "Train Sample +++++++++++++++++++++++++++++++++++++++++++++\n",
            "chers custou\n",
            "\n",
            "ve itickno my\n",
            "r m y corves then br as\n",
            "tan barilindye illo n\n",
            "mese y pr jouf cecor t thathon bet\n",
            "\n",
            "\n",
            "thathat d y y y co heere y e lleal od he..\n",
            "ase thino fou peishe thathoto om ghaks fiamseav\n",
            "++++++++++++++++++++++++++++++++++++++++++++++++++++++++++\n",
            "Epoch: 60 Loss: 0.22683921456336975\n",
            "Train Sample +++++++++++++++++++++++++++++++++++++++++++++\n",
            "rimy ichad be i h s\n",
            "migeist s ir:\n",
            "\n",
            "thithob yothon s nortirut s y cr t nt\n",
            "wiu t tlle he ne n but wh ank\n",
            "\n",
            "thitrd omavieee s:\n",
            "\n",
            "whas us:ck tathowiberelouss\n",
            "\n",
            "ug\n",
            "thate cis:\n",
            "icrololes d ma ly s thes:\n",
            "my\n",
            "lale\n",
            "\n",
            "++++++++++++++++++++++++++++++++++++++++++++++++++++++++++\n",
            "Epoch: 70 Loss: 0.20392395555973053\n",
            "Train Sample +++++++++++++++++++++++++++++++++++++++++++++\n",
            "t ath.\n",
            "ul he thithad thile galeryourte melele pllinushaticitlereathouthofus\n",
            "\n",
            "tlle\n",
            "\n",
            "ton:\n",
            "\n",
            "\n",
            "me ldie he thathofodire. faman tha tirto thathoini ureweyour\n",
            "wher ngondon we thino f tu pllithe isthed gere you\n",
            "++++++++++++++++++++++++++++++++++++++++++++++++++++++++++\n",
            "Epoch: 80 Loss: 0.1622127741575241\n",
            "Train Sample +++++++++++++++++++++++++++++++++++++++++++++\n",
            "elle man n fave analupershen the h y tou ot t plle masthiatere thas:\n",
            "versentist ats:\n",
            "tand owild are y t ghese t wee thandor:\n",
            "\n",
            "\n",
            "alall te thed lie that aney the thadauthofisushemil pre is s cian\n",
            "\n",
            "thas:f \n",
            "++++++++++++++++++++++++++++++++++++++++++++++++++++++++++\n",
            "Epoch: 90 Loss: 0.14510735869407654\n",
            "Train Sample +++++++++++++++++++++++++++++++++++++++++++++\n",
            "wond outon t whit ator he:\n",
            "at mead ciou mmavagathathavin wol isoo\n",
            "nd us s fantondo the to y coull\n",
            "when arcer masw it inowot t aw f s\n",
            "andolls.\n",
            "\n",
            "t tt keoug\n",
            "ile s t an outred t thurth sheacheanthed tu m t\n",
            "++++++++++++++++++++++++++++++++++++++++++++++++++++++++++\n"
          ]
        }
      ],
      "source": [
        "lstm_sh_finetune_losses = finetune_lstm(sh_data, sh_data_size, './model_sh_finetune_lstm.pth', './model_wi_lstm.pth')"
      ]
    },
    {
      "cell_type": "markdown",
      "metadata": {
        "id": "gPr9aM-COlGM"
      },
      "source": [
        "## Plotting Losses"
      ]
    },
    {
      "cell_type": "code",
      "execution_count": 40,
      "metadata": {
        "execution": {
          "iopub.status.busy": "2023-12-07T02:07:33.657036Z",
          "iopub.status.idle": "2023-12-07T02:07:33.657346Z",
          "shell.execute_reply": "2023-12-07T02:07:33.657208Z",
          "shell.execute_reply.started": "2023-12-07T02:07:33.657193Z"
        },
        "id": "seWKCPaCnQ2N",
        "trusted": true
      },
      "outputs": [],
      "source": [
        "def plot_losses_together(losses1, losses2):\n",
        "    xpoints = np.array(range(len(losses1)))\n",
        "    ypoints1 = np.array(losses1)\n",
        "    ypoints2 = np.array(losses2)\n",
        "\n",
        "    plt.plot(xpoints, ypoints1, color='blue',label='base_losses' )\n",
        "    plt.plot(xpoints, ypoints2, color='red',label='finetune_losses' )\n",
        "    plt.xlabel(\"epoch\")\n",
        "    plt.ylabel(\"loss\")\n",
        "    plt.legend()\n",
        "    plt.show()"
      ]
    },
    {
      "cell_type": "markdown",
      "metadata": {
        "id": "pl3ao3hXnne2"
      },
      "source": [
        "### RNN"
      ]
    },
    {
      "cell_type": "code",
      "execution_count": 41,
      "metadata": {
        "colab": {
          "base_uri": "https://localhost:8080/",
          "height": 449
        },
        "execution": {
          "iopub.status.busy": "2023-12-07T02:07:33.658123Z",
          "iopub.status.idle": "2023-12-07T02:07:33.658420Z",
          "shell.execute_reply": "2023-12-07T02:07:33.658285Z",
          "shell.execute_reply.started": "2023-12-07T02:07:33.658270Z"
        },
        "id": "oCiLrTAahpTr",
        "outputId": "5a281854-9f40-4fd0-deff-1c38f0fc4509",
        "trusted": true
      },
      "outputs": [
        {
          "data": {
            "image/png": "[encoded data removed]",
            "text/plain": [
              "<Figure size 640x480 with 1 Axes>"
            ]
          },
          "metadata": {},
          "output_type": "display_data"
        }
      ],
      "source": [
        "plot_losses_together(rnn_sh_losses, rnn_sh_finetune_losses)"
      ]
    },
    {
      "cell_type": "markdown",
      "metadata": {
        "id": "kGI_uZZhnpdF"
      },
      "source": [
        "### LSTM"
      ]
    },
    {
      "cell_type": "code",
      "execution_count": 42,
      "metadata": {
        "colab": {
          "base_uri": "https://localhost:8080/",
          "height": 449
        },
        "execution": {
          "iopub.status.busy": "2023-12-07T02:07:33.659787Z",
          "iopub.status.idle": "2023-12-07T02:07:33.660091Z",
          "shell.execute_reply": "2023-12-07T02:07:33.659955Z",
          "shell.execute_reply.started": "2023-12-07T02:07:33.659941Z"
        },
        "id": "liBF6jxUnPpO",
        "outputId": "3acf6ad7-658a-4497-f83c-dfaa62ccca9e",
        "trusted": true
      },
      "outputs": [
        {
          "data": {
            "image/png": "[encoded data removed]",
            "text/plain": [
              "<Figure size 640x480 with 1 Axes>"
            ]
          },
          "metadata": {},
          "output_type": "display_data"
        }
      ],
      "source": [
        "plot_losses_together(lstm_sh_losses, lstm_sh_finetune_losses)"
      ]
    },
    {
      "cell_type": "markdown",
      "metadata": {
        "id": "_3bCGDXxOvGv"
      },
      "source": [
        "## Report"
      ]
    },
    {
      "cell_type": "markdown",
      "metadata": {
        "id": "SOiRxwHGnnag"
      },
      "source": [
        "As you can see, fine-tuning has an effect in improving the training of the main model.\n",
        "\n",
        "By analyzing the obtained results, state the advantage of finetuning after pre-training the model by public dataset, and compare its performance in different models"
      ]
    },
    {
      "cell_type": "markdown",
      "metadata": {
        "id": "NAEoxdCInnW-"
      },
      "source": [
        "<font color='#73FF73'><b>Your answer : </b></font>\n",
        "\n",
        "From the loss plots, it’s evident that fine-tuning the models pre-trained on the Wikipedia dataset has led to an improvement in the performance on the Shakespeare dataset. The loss values for both the RNN and LSTM models have decreased more rapidly and reached lower values compared to training from scratch. This indicates that the models have benefited from the initial pre-training phase and were able to adapt more quickly to the new dataset.\n",
        "\n",
        "The advantage of this fine-tuning approach is that the models can leverage the knowledge learned from a large and diverse dataset like Wikipedia, which can provide a good initialization of the model parameters. This can help the models to converge faster and achieve better performance when fine-tuned on a specific task or domain, such as generating text in the style of Shakespeare.\n",
        "\n",
        "Comparing the performance of the RNN and LSTM models, it appears that the LSTM model has achieved a slightly lower loss value. This suggests that the LSTM model might be better at capturing the long-term dependencies in the text, which is crucial for generating coherent and grammatically correct sentences. However, both models have shown significant improvement with the fine-tuning approach, demonstrating the effectiveness of this technique in enhancing model performance.\n"
      ]
    },
    {
      "cell_type": "markdown",
      "metadata": {
        "id": "6mVIAlPZLjaw"
      },
      "source": [
        "----\n",
        "----"
      ]
    },
    {
      "cell_type": "markdown",
      "metadata": {
        "id": "L3RR1kMxnnUf"
      },
      "source": [
        "# 3. Experiment on different datasets"
      ]
    },
    {
      "cell_type": "markdown",
      "metadata": {
        "id": "P7BcgGRrqBqz"
      },
      "source": [
        "In the previous section, you saw the performance results of the text generation model using the Shakespeare plays dataset. In the following, you will check the results of the LSTM model on the dialogues of the `Friends series`"
      ]
    },
    {
      "cell_type": "markdown",
      "metadata": {
        "id": "Wa54a7knq4N6"
      },
      "source": [
        "## Load dataset"
      ]
    },
    {
      "cell_type": "code",
      "execution_count": 43,
      "metadata": {
        "colab": {
          "base_uri": "https://localhost:8080/"
        },
        "execution": {
          "iopub.status.busy": "2023-12-07T02:07:33.661575Z",
          "iopub.status.idle": "2023-12-07T02:07:33.661985Z",
          "shell.execute_reply": "2023-12-07T02:07:33.661832Z",
          "shell.execute_reply.started": "2023-12-07T02:07:33.661815Z"
        },
        "id": "u2XhR0uprKNF",
        "outputId": "cb3b882c-ebc8-4e83-e4b3-f99c84c462ee",
        "trusted": true
      },
      "outputs": [
        {
          "name": "stdout",
          "output_type": "stream",
          "text": [
            "--2023-12-08 16:09:20--  https://raw.githubusercontent.com/rfordatascience/tidytuesday/master/data/2020/2020-09-08/friends.csv\n",
            "Resolving raw.githubusercontent.com (raw.githubusercontent.com)... 185.199.111.133, 185.199.109.133, 185.199.108.133, ...\n",
            "Connecting to raw.githubusercontent.com (raw.githubusercontent.com)|185.199.111.133|:443... connected.\n",
            "HTTP request sent, awaiting response... 200 OK\n",
            "Length: 5383844 (5.1M) [text/plain]\n",
            "Saving to: ‘./data/Friends.csv’\n",
            "\n",
            "./data/Friends.csv  100%[===================>]   5.13M  --.-KB/s    in 0.08s   \n",
            "\n",
            "2023-12-08 16:09:20 (63.8 MB/s) - ‘./data/Friends.csv’ saved [5383844/5383844]\n",
            "\n"
          ]
        }
      ],
      "source": [
        "!wget https://raw.githubusercontent.com/rfordatascience/tidytuesday/master/data/2020/2020-09-08/friends.csv -O ./data/Friends.csv"
      ]
    },
    {
      "cell_type": "markdown",
      "metadata": {
        "id": "0X_z5mS3q7EN"
      },
      "source": [
        "## preprocessing"
      ]
    },
    {
      "cell_type": "code",
      "execution_count": 44,
      "metadata": {
        "colab": {
          "base_uri": "https://localhost:8080/",
          "height": 206
        },
        "execution": {
          "iopub.status.busy": "2023-12-07T02:07:33.662901Z",
          "iopub.status.idle": "2023-12-07T02:07:33.663203Z",
          "shell.execute_reply": "2023-12-07T02:07:33.663066Z",
          "shell.execute_reply.started": "2023-12-07T02:07:33.663051Z"
        },
        "id": "7IbK2Ean-l1w",
        "outputId": "81ab4965-fedb-46c6-d39c-9c6f71324b17",
        "trusted": true
      },
      "outputs": [
        {
          "data": {
            "text/html": [
              "\n",
              "  <div id=\"df-64d3700d-2251-4ca8-83aa-301191a3224d\" class=\"colab-df-container\">\n",
              "    <div>\n",
              "<style scoped>\n",
              "    .dataframe tbody tr th:only-of-type {\n",
              "        vertical-align: middle;\n",
              "    }\n",
              "\n",
              "    .dataframe tbody tr th {\n",
              "        vertical-align: top;\n",
              "    }\n",
              "\n",
              "    .dataframe thead th {\n",
              "        text-align: right;\n",
              "    }\n",
              "</style>\n",
              "<table border=\"1\" class=\"dataframe\">\n",
              "  <thead>\n",
              "    <tr style=\"text-align: right;\">\n",
              "      <th></th>\n",
              "      <th>text</th>\n",
              "      <th>speaker</th>\n",
              "    </tr>\n",
              "  </thead>\n",
              "  <tbody>\n",
              "    <tr>\n",
              "      <th>0</th>\n",
              "      <td>There's nothing to tell! He's just some guy I ...</td>\n",
              "      <td>Monica</td>\n",
              "    </tr>\n",
              "    <tr>\n",
              "      <th>1</th>\n",
              "      <td>C'mon, you're going out with the guy! There's ...</td>\n",
              "      <td>Joey</td>\n",
              "    </tr>\n",
              "    <tr>\n",
              "      <th>2</th>\n",
              "      <td>All right Joey, be nice. So does he have a hum...</td>\n",
              "      <td>Chandler</td>\n",
              "    </tr>\n",
              "    <tr>\n",
              "      <th>3</th>\n",
              "      <td>Wait, does he eat chalk?</td>\n",
              "      <td>Phoebe</td>\n",
              "    </tr>\n",
              "    <tr>\n",
              "      <th>4</th>\n",
              "      <td>(They all stare, bemused.)</td>\n",
              "      <td>Scene</td>\n",
              "    </tr>\n",
              "  </tbody>\n",
              "</table>\n",
              "</div>\n",
              "    <div class=\"colab-df-buttons\">\n",
              "\n",
              "  <div class=\"colab-df-container\">\n",
              "    <button class=\"colab-df-convert\" onclick=\"convertToInteractive('df-64d3700d-2251-4ca8-83aa-301191a3224d')\"\n",
              "            title=\"Convert this dataframe to an interactive table.\"\n",
              "            style=\"display:none;\">\n",
              "\n",
              "  <svg xmlns=\"http://www.w3.org/2000/svg\" height=\"24px\" viewBox=\"0 -960 960 960\">\n",
              "    <path d=\"M120-120v-720h720v720H120Zm60-500h600v-160H180v160Zm220 220h160v-160H400v160Zm0 220h160v-160H400v160ZM180-400h160v-160H180v160Zm440 0h160v-160H620v160ZM180-180h160v-160H180v160Zm440 0h160v-160H620v160Z\"/>\n",
              "  </svg>\n",
              "    </button>\n",
              "\n",
              "  <style>\n",
              "    .colab-df-container {\n",
              "      display:flex;\n",
              "      gap: 12px;\n",
              "    }\n",
              "\n",
              "    .colab-df-convert {\n",
              "      background-color: #E8F0FE;\n",
              "      border: none;\n",
              "      border-radius: 50%;\n",
              "      cursor: pointer;\n",
              "      display: none;\n",
              "      fill: #1967D2;\n",
              "      height: 32px;\n",
              "      padding: 0 0 0 0;\n",
              "      width: 32px;\n",
              "    }\n",
              "\n",
              "    .colab-df-convert:hover {\n",
              "      background-color: #E2EBFA;\n",
              "      box-shadow: 0px 1px 2px rgba(60, 64, 67, 0.3), 0px 1px 3px 1px rgba(60, 64, 67, 0.15);\n",
              "      fill: #174EA6;\n",
              "    }\n",
              "\n",
              "    .colab-df-buttons div {\n",
              "      margin-bottom: 4px;\n",
              "    }\n",
              "\n",
              "    [theme=dark] .colab-df-convert {\n",
              "      background-color: #3B4455;\n",
              "      fill: #D2E3FC;\n",
              "    }\n",
              "\n",
              "    [theme=dark] .colab-df-convert:hover {\n",
              "      background-color: #434B5C;\n",
              "      box-shadow: 0px 1px 3px 1px rgba(0, 0, 0, 0.15);\n",
              "      filter: drop-shadow(0px 1px 2px rgba(0, 0, 0, 0.3));\n",
              "      fill: #FFFFFF;\n",
              "    }\n",
              "  </style>\n",
              "\n",
              "    <script>\n",
              "      const buttonEl =\n",
              "        document.querySelector('#df-64d3700d-2251-4ca8-83aa-301191a3224d button.colab-df-convert');\n",
              "      buttonEl.style.display =\n",
              "        google.colab.kernel.accessAllowed ? 'block' : 'none';\n",
              "\n",
              "      async function convertToInteractive(key) {\n",
              "        const element = document.querySelector('#df-64d3700d-2251-4ca8-83aa-301191a3224d');\n",
              "        const dataTable =\n",
              "          await google.colab.kernel.invokeFunction('convertToInteractive',\n",
              "                                                    [key], {});\n",
              "        if (!dataTable) return;\n",
              "\n",
              "        const docLinkHtml = 'Like what you see? Visit the ' +\n",
              "          '<a target=\"_blank\" href=https://colab.research.google.com/notebooks/data_table.ipynb>data table notebook</a>'\n",
              "          + ' to learn more about interactive tables.';\n",
              "        element.innerHTML = '';\n",
              "        dataTable['output_type'] = 'display_data';\n",
              "        await google.colab.output.renderOutput(dataTable, element);\n",
              "        const docLink = document.createElement('div');\n",
              "        docLink.innerHTML = docLinkHtml;\n",
              "        element.appendChild(docLink);\n",
              "      }\n",
              "    </script>\n",
              "  </div>\n",
              "\n",
              "\n",
              "<div id=\"df-28499366-0e8d-4f45-8cc8-ede714d859b4\">\n",
              "  <button class=\"colab-df-quickchart\" onclick=\"quickchart('df-28499366-0e8d-4f45-8cc8-ede714d859b4')\"\n",
              "            title=\"Suggest charts\"\n",
              "            style=\"display:none;\">\n",
              "\n",
              "<svg xmlns=\"http://www.w3.org/2000/svg\" height=\"24px\"viewBox=\"0 0 24 24\"\n",
              "     width=\"24px\">\n",
              "    <g>\n",
              "        <path d=\"M19 3H5c-1.1 0-2 .9-2 2v14c0 1.1.9 2 2 2h14c1.1 0 2-.9 2-2V5c0-1.1-.9-2-2-2zM9 17H7v-7h2v7zm4 0h-2V7h2v10zm4 0h-2v-4h2v4z\"/>\n",
              "    </g>\n",
              "</svg>\n",
              "  </button>\n",
              "\n",
              "<style>\n",
              "  .colab-df-quickchart {\n",
              "      --bg-color: #E8F0FE;\n",
              "      --fill-color: #1967D2;\n",
              "      --hover-bg-color: #E2EBFA;\n",
              "      --hover-fill-color: #174EA6;\n",
              "      --disabled-fill-color: #AAA;\n",
              "      --disabled-bg-color: #DDD;\n",
              "  }\n",
              "\n",
              "  [theme=dark] .colab-df-quickchart {\n",
              "      --bg-color: #3B4455;\n",
              "      --fill-color: #D2E3FC;\n",
              "      --hover-bg-color: #434B5C;\n",
              "      --hover-fill-color: #FFFFFF;\n",
              "      --disabled-bg-color: #3B4455;\n",
              "      --disabled-fill-color: #666;\n",
              "  }\n",
              "\n",
              "  .colab-df-quickchart {\n",
              "    background-color: var(--bg-color);\n",
              "    border: none;\n",
              "    border-radius: 50%;\n",
              "    cursor: pointer;\n",
              "    display: none;\n",
              "    fill: var(--fill-color);\n",
              "    height: 32px;\n",
              "    padding: 0;\n",
              "    width: 32px;\n",
              "  }\n",
              "\n",
              "  .colab-df-quickchart:hover {\n",
              "    background-color: var(--hover-bg-color);\n",
              "    box-shadow: 0 1px 2px rgba(60, 64, 67, 0.3), 0 1px 3px 1px rgba(60, 64, 67, 0.15);\n",
              "    fill: var(--button-hover-fill-color);\n",
              "  }\n",
              "\n",
              "  .colab-df-quickchart-complete:disabled,\n",
              "  .colab-df-quickchart-complete:disabled:hover {\n",
              "    background-color: var(--disabled-bg-color);\n",
              "    fill: var(--disabled-fill-color);\n",
              "    box-shadow: none;\n",
              "  }\n",
              "\n",
              "  .colab-df-spinner {\n",
              "    border: 2px solid var(--fill-color);\n",
              "    border-color: transparent;\n",
              "    border-bottom-color: var(--fill-color);\n",
              "    animation:\n",
              "      spin 1s steps(1) infinite;\n",
              "  }\n",
              "\n",
              "  @keyframes spin {\n",
              "    0% {\n",
              "      border-color: transparent;\n",
              "      border-bottom-color: var(--fill-color);\n",
              "      border-left-color: var(--fill-color);\n",
              "    }\n",
              "    20% {\n",
              "      border-color: transparent;\n",
              "      border-left-color: var(--fill-color);\n",
              "      border-top-color: var(--fill-color);\n",
              "    }\n",
              "    30% {\n",
              "      border-color: transparent;\n",
              "      border-left-color: var(--fill-color);\n",
              "      border-top-color: var(--fill-color);\n",
              "      border-right-color: var(--fill-color);\n",
              "    }\n",
              "    40% {\n",
              "      border-color: transparent;\n",
              "      border-right-color: var(--fill-color);\n",
              "      border-top-color: var(--fill-color);\n",
              "    }\n",
              "    60% {\n",
              "      border-color: transparent;\n",
              "      border-right-color: var(--fill-color);\n",
              "    }\n",
              "    80% {\n",
              "      border-color: transparent;\n",
              "      border-right-color: var(--fill-color);\n",
              "      border-bottom-color: var(--fill-color);\n",
              "    }\n",
              "    90% {\n",
              "      border-color: transparent;\n",
              "      border-bottom-color: var(--fill-color);\n",
              "    }\n",
              "  }\n",
              "</style>\n",
              "\n",
              "  <script>\n",
              "    async function quickchart(key) {\n",
              "      const quickchartButtonEl =\n",
              "        document.querySelector('#' + key + ' button');\n",
              "      quickchartButtonEl.disabled = true;  // To prevent multiple clicks.\n",
              "      quickchartButtonEl.classList.add('colab-df-spinner');\n",
              "      try {\n",
              "        const charts = await google.colab.kernel.invokeFunction(\n",
              "            'suggestCharts', [key], {});\n",
              "      } catch (error) {\n",
              "        console.error('Error during call to suggestCharts:', error);\n",
              "      }\n",
              "      quickchartButtonEl.classList.remove('colab-df-spinner');\n",
              "      quickchartButtonEl.classList.add('colab-df-quickchart-complete');\n",
              "    }\n",
              "    (() => {\n",
              "      let quickchartButtonEl =\n",
              "        document.querySelector('#df-28499366-0e8d-4f45-8cc8-ede714d859b4 button');\n",
              "      quickchartButtonEl.style.display =\n",
              "        google.colab.kernel.accessAllowed ? 'block' : 'none';\n",
              "    })();\n",
              "  </script>\n",
              "</div>\n",
              "    </div>\n",
              "  </div>\n"
            ],
            "text/plain": [
              "                                                text   speaker\n",
              "0  There's nothing to tell! He's just some guy I ...    Monica\n",
              "1  C'mon, you're going out with the guy! There's ...      Joey\n",
              "2  All right Joey, be nice. So does he have a hum...  Chandler\n",
              "3                           Wait, does he eat chalk?    Phoebe\n",
              "4                         (They all stare, bemused.)     Scene"
            ]
          },
          "execution_count": 44,
          "metadata": {},
          "output_type": "execute_result"
        }
      ],
      "source": [
        "friends = pd.read_csv('./data/Friends.csv')\n",
        "friends = friends.dropna()\n",
        "friends = friends[friends['speaker'].str.contains('SCENE')==False]\n",
        "friends['speaker'] = friends['speaker'].apply(lambda sp: sp.lower().capitalize().split(' ')[0])\n",
        "friends_texts = friends.drop(['episode','season','scene','utterance'], axis='columns')\n",
        "friends_texts.head()"
      ]
    },
    {
      "cell_type": "code",
      "execution_count": 45,
      "metadata": {
        "execution": {
          "iopub.status.busy": "2023-12-07T02:07:33.664983Z",
          "iopub.status.idle": "2023-12-07T02:07:33.665299Z",
          "shell.execute_reply": "2023-12-07T02:07:33.665159Z",
          "shell.execute_reply.started": "2023-12-07T02:07:33.665144Z"
        },
        "id": "mEaZR1jS-q_W",
        "trusted": true
      },
      "outputs": [],
      "source": [
        "f = open(\"./data/fiends.txt\", \"w\")\n",
        "for i,row in friends_texts.iterrows():\n",
        "    f.write(row['speaker'] + ':\\n' + row['text'] + '\\n\\n')\n",
        "\n",
        "f.close()"
      ]
    },
    {
      "cell_type": "code",
      "execution_count": 46,
      "metadata": {
        "execution": {
          "iopub.status.busy": "2023-12-07T02:07:33.666184Z",
          "iopub.status.idle": "2023-12-07T02:07:33.666509Z",
          "shell.execute_reply": "2023-12-07T02:07:33.666365Z",
          "shell.execute_reply.started": "2023-12-07T02:07:33.666349Z"
        },
        "id": "1SPBHV5u-62e",
        "trusted": true
      },
      "outputs": [],
      "source": [
        "fr_data_file = \"./data/fiends.txt\"\n",
        "fr_data = open(fr_data_file, 'r').read(30000)\n",
        "fr_data = remove_extraneous_characters(fr_data.lower(), chars)\n",
        "fr_data_size = len(fr_data)\n",
        "\n",
        "fr_data = list(fr_data)\n",
        "for i, ch in enumerate(fr_data):\n",
        "    fr_data[i] = char_to_ix[ch]\n",
        "\n",
        "fr_data = torch.tensor(fr_data).to(device)\n",
        "fr_data = torch.unsqueeze(fr_data, dim=1)"
      ]
    },
    {
      "cell_type": "markdown",
      "metadata": {
        "id": "6drMR6Gtq_jj"
      },
      "source": [
        "## Train finetuned LSTM by friends dataset"
      ]
    },
    {
      "cell_type": "code",
      "execution_count": 47,
      "metadata": {
        "colab": {
          "base_uri": "https://localhost:8080/"
        },
        "execution": {
          "iopub.status.busy": "2023-12-07T02:07:33.667804Z",
          "iopub.status.idle": "2023-12-07T02:07:33.668235Z",
          "shell.execute_reply": "2023-12-07T02:07:33.668034Z",
          "shell.execute_reply.started": "2023-12-07T02:07:33.668012Z"
        },
        "id": "J7ruLz2r_O3r",
        "outputId": "460c8292-4697-46f5-bb72-07d42401fea5",
        "trusted": true
      },
      "outputs": [
        {
          "name": "stdout",
          "output_type": "stream",
          "text": [
            "Epoch: 0 Loss: 5.465887546539307\n",
            "Train Sample +++++++++++++++++++++++++++++++++++++++++++++\n",
            "mvily ower  sprevit win ung mofrermp . acoflon t t thewey t  ived t merion rk . leey  cheffond llbeasoorutings  m oprit st   asece tincseeede buare m le  d mepas sth f t   ter ca cute a re  the   iorer\n",
            "++++++++++++++++++++++++++++++++++++++++++++++++++++++++++\n",
            "Epoch: 10 Loss: 2.1353859901428223\n",
            "Train Sample +++++++++++++++++++++++++++++++++++++++++++++\n",
            "lllllyouni s...\n",
            "st s ho.... m mmo warangtexer. el:ysinishtchomo oundouse r.\n",
            "\n",
            "\n",
            "\n",
            ":nenowetig his y thacaurrt the toar chem dlleoelidant htou wh yor justhaysodss our menooutatarshe he... hahanouculy tice w\n",
            "++++++++++++++++++++++++++++++++++++++++++++++++++++++++++\n",
            "Epoch: 20 Loss: 1.4893335103988647\n",
            "Train Sample +++++++++++++++++++++++++++++++++++++++++++++\n",
            "ngond...r:\n",
            "ha snnosu we be fe be:\n",
            "r..... thichangon ilinblel ldini\n",
            "\n",
            "\n",
            "\n",
            "\n",
            "\n",
            "wicari the\n",
            "\n",
            "myoullyoulithon h belidiss o theat tod befan t wes yont ba ohe\n",
            "\n",
            "wo s ig a berilit\n",
            "\n",
            "\n",
            "auth wisicambeliclingo:\n",
            "\n",
            "\n",
            "\n",
            "\n",
            "\n",
            "l:\n",
            "\n",
            "\n",
            "++++++++++++++++++++++++++++++++++++++++++++++++++++++++++\n",
            "Epoch: 30 Loss: 1.0449057817459106\n",
            "Train Sample +++++++++++++++++++++++++++++++++++++++++++++\n",
            "se al tw\n",
            "u os onte inoot awss:\n",
            "\n",
            "oe me nina whand abbongearon di had arerebelffests lin er:feryon pavesnthacel:\n",
            "wa ithedllets bel:st g g\n",
            "mis etane belitherann belyow an tigikas t chabors stahnt ch wh in\n",
            "++++++++++++++++++++++++++++++++++++++++++++++++++++++++++\n",
            "Epoch: 40 Loss: 0.6539050340652466\n",
            "Train Sample +++++++++++++++++++++++++++++++++++++++++++++\n",
            "ow lo rouge hicu us ime:aur yeli at of be......ahericupererare leles:\n",
            "\n",
            "\n",
            "rel tich y tagon ad he indos ontommy hanikngo t.\n",
            "\n",
            "\n",
            "s hoeri fyous sso. nitht non preyoran th wisto that hpagosthorou thenagahay ss\n",
            "++++++++++++++++++++++++++++++++++++++++++++++++++++++++++\n",
            "Epoch: 50 Loss: 0.2941123843193054\n",
            "Train Sample +++++++++++++++++++++++++++++++++++++++++++++\n",
            "se chanoh. wat k dllest w towey g ses ghalykeres . ats:ollore lem autht s arrol:\n",
            "mos arak t s:\n",
            "\n",
            "\n",
            "\n",
            "\n",
            "\n",
            "\n",
            "\n",
            "path atha:\n",
            "\n",
            "\n",
            "is kest a rache:\n",
            "m\n",
            "oondeer ts les ld f saknoweyo. t g.\n",
            "w... ith.\n",
            "\n",
            "chewit knos s tes pa\n",
            "++++++++++++++++++++++++++++++++++++++++++++++++++++++++++\n",
            "Epoch: 60 Loss: 0.20062236487865448\n",
            "Train Sample +++++++++++++++++++++++++++++++++++++++++++++\n",
            "evy.\n",
            "e icanean\n",
            "\n",
            "rou ou thas it inghare t tarigutis oc i andis owhe levettif g a i sput ou secheasha:\n",
            "\n",
            "\n",
            "g im ann i t ache\n",
            "rant pere nofosthebidisthexsouthe meth.. im r michenteny iche tou sou t h whed.\n",
            "\n",
            "++++++++++++++++++++++++++++++++++++++++++++++++++++++++++\n",
            "Epoch: 70 Loss: 0.19211791455745697\n",
            "Train Sample +++++++++++++++++++++++++++++++++++++++++++++\n",
            "iga:\n",
            "\n",
            "\n",
            "\n",
            "\n",
            "\n",
            "\n",
            "mu pre:\n",
            "\n",
            "\n",
            "reve he in gwhode whed g we tichenit.\n",
            "d ind ly thanithey its:\n",
            "\n",
            "rng thanouprondyowe.. whtheroka:\n",
            "ys at hits h.\n",
            "\n",
            "se..ors bhinithe:wouthayssangowowit....\n",
            "\n",
            "\n",
            "\n",
            "\n",
            "\n",
            "\n",
            "t ath ileand f be... y \n",
            "++++++++++++++++++++++++++++++++++++++++++++++++++++++++++\n",
            "Epoch: 80 Loss: 0.1123836487531662\n",
            "Train Sample +++++++++++++++++++++++++++++++++++++++++++++\n",
            " hy:e tosthay t....\n",
            "en ro y rcuhtth de ind ledint pal yor ca indlle.\n",
            "\n",
            "\n",
            "\n",
            "re ug t e nte hersha y t m ican ye n hed amoouthofosa tos oo alokn icu te ps d owie\n",
            "jonach tond st m he mod f imr chay m he...\n",
            "we\n",
            "++++++++++++++++++++++++++++++++++++++++++++++++++++++++++\n",
            "Epoch: 90 Loss: 0.1523907482624054\n",
            "Train Sample +++++++++++++++++++++++++++++++++++++++++++++\n",
            " go wo wh d here\n",
            "owhyodus win s atst ith ot i i ados dee g ththeat o s o m s hyo ishit.\n",
            "jouththandr:\n",
            "ant tas gey immee\n",
            "\n",
            "reey thanor:\n",
            "\n",
            "ouratheaco sharere mo lele kn chad ses lavery be:on wouta:\n",
            "\n",
            "\n",
            "ma:\n",
            "\n",
            "\n",
            "\n",
            "++++++++++++++++++++++++++++++++++++++++++++++++++++++++++\n"
          ]
        }
      ],
      "source": [
        "lstm_fr_finetune_losses = finetune_lstm(fr_data, fr_data_size, './model_fr_lstm.pth', './model_wi_lstm.pth')"
      ]
    },
    {
      "cell_type": "markdown",
      "metadata": {
        "id": "62xwUDiPrEDq"
      },
      "source": [
        "## Generating texts"
      ]
    },
    {
      "cell_type": "code",
      "execution_count": 48,
      "metadata": {
        "colab": {
          "base_uri": "https://localhost:8080/"
        },
        "execution": {
          "iopub.status.busy": "2023-12-07T02:07:33.669506Z",
          "iopub.status.idle": "2023-12-07T02:07:33.669965Z",
          "shell.execute_reply": "2023-12-07T02:07:33.669759Z",
          "shell.execute_reply.started": "2023-12-07T02:07:33.669729Z"
        },
        "id": "26S9Um9Jnm9T",
        "outputId": "f470e74d-464e-4ad1-eab9-ec94ccd2567a",
        "trusted": true
      },
      "outputs": [
        {
          "name": "stdout",
          "output_type": "stream",
          "text": [
            "best loss 0.10585042816046235\n",
            "Eaxmple of generated text --------------------------------------------------------------------------\n",
            "neant chevebbelufl:jouthith irene anoum icoud odlw ce i k me t ndin int o h f i k icont o y us idoe l g iced mellese tininindnom icu urelyeres.\n",
            "\n",
            "\n",
            "res s ha l d inigayout\n",
            "youl... bath t at p ll:\n",
            "o greve...on ugougoes:\n",
            "\n",
            "\n",
            "\n",
            "\n",
            "\n",
            "\n",
            "\n",
            "mes d ha...\n",
            "\n",
            "\n",
            "\n",
            "\n",
            "rem eangos:\n",
            "\n",
            "\n",
            "\n",
            "r t achacad it ur anohanta whe m nd m is... g arayoowhohanthath toethay wond ise y anne hents hey momoknereb\n",
            "yobe indlly ay bavayetouraveolintsou ait alicahanchentakne ind ge knsha ch fed ar ralopodorayo aracas caleyoll. whur t hitth oso.\n",
            "\n",
            "\n",
            "me it l to t g g wemblla youdni...... d h w yoff lou ere g tican uy y rat chthesties l:\n",
            "ous o ththestolave. t ts ith t carer:\n",
            "a:\n",
            "\n",
            "ri be:ofe:\n",
            "rabelere wa ismindy h icanthof tand gare inonth\n",
            "\n",
            "ral de\n",
            "jundo thaha:\n",
            "oes t eat h ican leysoudan. m ntsanoour:\n",
            "omeen\n",
            "y y fl od at m.. itsh\n",
            "m tane a k\n",
            "\n",
            "ravey mm ad hacay.. g w\n",
            "st im at od sheonkiniss thaha:\n",
            "\n",
            "\n",
            "\n",
            "\n",
            "\n",
            "\n",
            "\n",
            "h widcey mas weosnde tou aw ra:\n",
            "rla:\n",
            "\n",
            "\n",
            "my licaybe oou.\n",
            "\n",
            "mohe ontlour theyoreyond s iche ndut o y mocanoourethey ere waringos authele dor ficu whokis ti m\n",
            "----------------------------------------------------------------------------------------------------\n"
          ]
        }
      ],
      "source": [
        "best_model_lstm =  LSTM(vocab_size, vocab_size, 512, 3).to(device)\n",
        "best_model_lstm.load_model('./model_fr_lstm.pth')\n",
        "print(\"best loss\", min(lstm_fr_finetune_losses))\n",
        "generate_text(best_model_lstm, fr_data, fr_data_size)"
      ]
    },
    {
      "cell_type": "markdown",
      "metadata": {
        "id": "Z7s2pjFjR-l4"
      },
      "source": [
        "- As you can see, the LSTM network has been able to learn the features of different datasets in terms of sentence length and writing style and use it in text generation."
      ]
    },
    {
      "cell_type": "markdown",
      "metadata": {
        "id": "7BGd20eltW3C"
      },
      "source": [
        "## The output of finetuned models on different datasets on the input sample"
      ]
    },
    {
      "cell_type": "markdown",
      "metadata": {
        "id": "Rp_UEVqAQuvy"
      },
      "source": [
        "- In this section, you can see the result of the text generated by models with a sample input text."
      ]
    },
    {
      "cell_type": "code",
      "execution_count": 49,
      "metadata": {
        "execution": {
          "iopub.status.busy": "2023-12-07T02:07:33.671041Z",
          "iopub.status.idle": "2023-12-07T02:07:33.671371Z",
          "shell.execute_reply": "2023-12-07T02:07:33.671223Z",
          "shell.execute_reply.started": "2023-12-07T02:07:33.671207Z"
        },
        "id": "NS_NqaJruKQe",
        "trusted": true
      },
      "outputs": [],
      "source": [
        "input_sample_text = \"Hello, have a nice day.\\n\""
      ]
    },
    {
      "cell_type": "code",
      "execution_count": 50,
      "metadata": {
        "colab": {
          "base_uri": "https://localhost:8080/"
        },
        "execution": {
          "iopub.status.busy": "2023-12-07T02:07:33.672679Z",
          "iopub.status.idle": "2023-12-07T02:07:33.673019Z",
          "shell.execute_reply": "2023-12-07T02:07:33.672874Z",
          "shell.execute_reply.started": "2023-12-07T02:07:33.672857Z"
        },
        "id": "mWgLQM0G2r7D",
        "outputId": "02edc589-608a-4a69-965f-8c504ce4e080",
        "trusted": true
      },
      "outputs": [
        {
          "name": "stdout",
          "output_type": "stream",
          "text": [
            "Eaxmple of generated text --------------------------------------------------------------------------\n",
            "s thi intcheos\n",
            "\n",
            "cale ig bboad heere ad t ch we ou ous tin int tourav t icadohe ont o charer:\n",
            "o offo t\n",
            "----------------------------------------------------------------------------------------------------\n"
          ]
        }
      ],
      "source": [
        "best_model_lstm =  LSTM(vocab_size, vocab_size, 512, 3).to(device)\n",
        "best_model_lstm.load_model('./model_fr_lstm.pth')\n",
        "generate_text(best_model_lstm, fr_data, fr_data_size, create_input_sample_dataset(input_sample_text),100)"
      ]
    },
    {
      "cell_type": "code",
      "execution_count": 51,
      "metadata": {
        "colab": {
          "base_uri": "https://localhost:8080/"
        },
        "execution": {
          "iopub.status.busy": "2023-12-07T02:07:33.674219Z",
          "iopub.status.idle": "2023-12-07T02:07:33.674551Z",
          "shell.execute_reply": "2023-12-07T02:07:33.674406Z",
          "shell.execute_reply.started": "2023-12-07T02:07:33.674390Z"
        },
        "id": "gmFUUJCUtLKm",
        "outputId": "d1338aaa-e07e-4da6-8389-d1ac68a31d9d",
        "trusted": true
      },
      "outputs": [
        {
          "name": "stdout",
          "output_type": "stream",
          "text": [
            "Eaxmple of generated text --------------------------------------------------------------------------\n",
            "we thow i iush thout owathof ic nd iutous whindyob is woucids:\n",
            "\n",
            "sied\n",
            "that wike s ama:\n",
            "d pre y ciuse t\n",
            "----------------------------------------------------------------------------------------------------\n"
          ]
        }
      ],
      "source": [
        "best_model_lstm =  LSTM(vocab_size, vocab_size, 512, 3).to(device)\n",
        "best_model_lstm.load_model('./model_sh_finetune_lstm.pth')\n",
        "generate_text(best_model_lstm, sh_data, sh_data_size, create_input_sample_dataset(input_sample_text),100)"
      ]
    },
    {
      "cell_type": "markdown",
      "metadata": {
        "id": "kT-dTrk_RQyE"
      },
      "source": [
        "## Report"
      ]
    },
    {
      "cell_type": "markdown",
      "metadata": {
        "id": "vNJdGJN1RLpz"
      },
      "source": [
        "According to the sample input and output produced by the fine-tuned model with the Shakespeare dataset and the Friends dataset, which output is more meaningful and what is the reason for this difference?"
      ]
    },
    {
      "cell_type": "markdown",
      "metadata": {
        "id": "k4nBCaS2RWN_"
      },
      "source": [
        "<font color='#73FF73'><b>Your answer : </b></font>\n",
        "\n",
        "Based on the nature of the datasets, it’s likely that the output from the model fine-tuned on the Friends dataset would be more meaningful in a modern context. The Friends dataset consists of dialogues from a contemporary TV show, which is likely to contain everyday language and scenarios that are more relatable and understandable to a modern audience.\n",
        "\n",
        "On the other hand, while the output from the model fine-tuned on the Shakespeare dataset might be more poetic and complex, it could also be more difficult to understand due to the archaic language and intricate expressions characteristic of Shakespeare’s works.\n",
        "\n",
        "Therefore, if we consider “meaningful” as being easily understood and relatable, the model fine-tuned on the Friends dataset has produced more meaningful output. However, it’s important to note that the definition of “meaningful” can vary depending on the context and the specific requirements of the task. For a task requiring a more artistic and poetic style, the model fine-tuned on the Shakespeare dataset might be more suitable.\n"
      ]
    },
    {
      "cell_type": "markdown",
      "metadata": {
        "id": "Tq_1cBKGRX8i"
      },
      "source": [
        "----\n",
        "----"
      ]
    }
  ],
  "metadata": {
    "accelerator": "GPU",
    "colab": {
      "gpuType": "T4",
      "provenance": []
    },
    "kaggle": {
      "accelerator": "gpu",
      "dataSources": [
        {
          "datasetId": 4122374,
          "sourceId": 7142219,
          "sourceType": "datasetVersion"
        }
      ],
      "isGpuEnabled": true,
      "isInternetEnabled": true,
      "language": "python",
      "sourceType": "notebook"
    },
    "kernelspec": {
      "display_name": "Python 3",
      "name": "python3"
    },
    "language_info": {
      "codemirror_mode": {
        "name": "ipython",
        "version": 3
      },
      "file_extension": ".py",
      "mimetype": "text/x-python",
      "name": "python",
      "nbconvert_exporter": "python",
      "pygments_lexer": "ipython3",
      "version": "3.9.6"
    }
  },
  "nbformat": 4,
  "nbformat_minor": 0
}
